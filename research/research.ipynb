{
  "cells": [
    {
      "cell_type": "markdown",
      "metadata": {
        "id": "CFkdr7d_a5LU"
      },
      "source": [
        "# Srilanka Dengue Outbreak Forecasting using Darts"
      ]
    },
    {
      "cell_type": "markdown",
      "metadata": {
        "id": "z3wDcw68bGuQ"
      },
      "source": [
        "## Environment Setup"
      ]
    },
    {
      "cell_type": "code",
      "execution_count": 1,
      "metadata": {
        "colab": {
          "base_uri": "https://localhost:8080/"
        },
        "execution": {
          "iopub.execute_input": "2024-09-09T15:49:55.991984Z",
          "iopub.status.busy": "2024-09-09T15:49:55.991705Z",
          "iopub.status.idle": "2024-09-09T15:50:43.279803Z",
          "shell.execute_reply": "2024-09-09T15:50:43.278701Z",
          "shell.execute_reply.started": "2024-09-09T15:49:55.991953Z"
        },
        "id": "t9mo68P7bD-C",
        "outputId": "51ad8e98-a67f-4e74-a9b0-7efde4154854",
        "trusted": true
      },
      "outputs": [
        {
          "name": "stdout",
          "output_type": "stream",
          "text": [
            "Requirement already satisfied: darts in /home/surajkarki/Documents/My Workspace/Coding Works/omdena/.venv/lib/python3.11/site-packages (0.30.0)\n",
            "Requirement already satisfied: holidays>=0.11.1 in /home/surajkarki/Documents/My Workspace/Coding Works/omdena/.venv/lib/python3.11/site-packages (from darts) (0.57)\n",
            "Requirement already satisfied: joblib>=0.16.0 in /home/surajkarki/Documents/My Workspace/Coding Works/omdena/.venv/lib/python3.11/site-packages (from darts) (1.4.2)\n",
            "Requirement already satisfied: matplotlib>=3.3.0 in /home/surajkarki/Documents/My Workspace/Coding Works/omdena/.venv/lib/python3.11/site-packages (from darts) (3.9.2)\n",
            "Requirement already satisfied: nfoursid>=1.0.0 in /home/surajkarki/Documents/My Workspace/Coding Works/omdena/.venv/lib/python3.11/site-packages (from darts) (1.0.1)\n",
            "Requirement already satisfied: numpy<2.0.0,>=1.19.0 in /home/surajkarki/Documents/My Workspace/Coding Works/omdena/.venv/lib/python3.11/site-packages (from darts) (1.26.4)\n",
            "Requirement already satisfied: pmdarima>=1.8.0 in /home/surajkarki/Documents/My Workspace/Coding Works/omdena/.venv/lib/python3.11/site-packages (from darts) (2.0.4)\n",
            "Requirement already satisfied: pyod>=0.9.5 in /home/surajkarki/Documents/My Workspace/Coding Works/omdena/.venv/lib/python3.11/site-packages (from darts) (2.0.2)\n",
            "Requirement already satisfied: requests>=2.22.0 in /home/surajkarki/Documents/My Workspace/Coding Works/omdena/.venv/lib/python3.11/site-packages (from darts) (2.32.3)\n",
            "Requirement already satisfied: scikit-learn>=1.0.1 in /home/surajkarki/Documents/My Workspace/Coding Works/omdena/.venv/lib/python3.11/site-packages (from darts) (1.5.2)\n",
            "Requirement already satisfied: scipy>=1.3.2 in /home/surajkarki/Documents/My Workspace/Coding Works/omdena/.venv/lib/python3.11/site-packages (from darts) (1.14.1)\n",
            "Requirement already satisfied: shap>=0.40.0 in /home/surajkarki/Documents/My Workspace/Coding Works/omdena/.venv/lib/python3.11/site-packages (from darts) (0.46.0)\n",
            "Requirement already satisfied: statsforecast>=1.4 in /home/surajkarki/Documents/My Workspace/Coding Works/omdena/.venv/lib/python3.11/site-packages (from darts) (1.7.8)\n",
            "Requirement already satisfied: statsmodels>=0.14.0 in /home/surajkarki/Documents/My Workspace/Coding Works/omdena/.venv/lib/python3.11/site-packages (from darts) (0.14.3)\n",
            "Requirement already satisfied: tbats>=1.1.0 in /home/surajkarki/Documents/My Workspace/Coding Works/omdena/.venv/lib/python3.11/site-packages (from darts) (1.1.3)\n",
            "Requirement already satisfied: tqdm>=4.60.0 in /home/surajkarki/Documents/My Workspace/Coding Works/omdena/.venv/lib/python3.11/site-packages (from darts) (4.66.5)\n",
            "Requirement already satisfied: typing-extensions in /home/surajkarki/Documents/My Workspace/Coding Works/omdena/.venv/lib/python3.11/site-packages (from darts) (4.12.2)\n",
            "Requirement already satisfied: xarray>=0.17.0 in /home/surajkarki/Documents/My Workspace/Coding Works/omdena/.venv/lib/python3.11/site-packages (from darts) (2024.9.0)\n",
            "Requirement already satisfied: xgboost>=1.6.0 in /home/surajkarki/Documents/My Workspace/Coding Works/omdena/.venv/lib/python3.11/site-packages (from darts) (2.1.1)\n",
            "Requirement already satisfied: pytorch-lightning>=1.5.0 in /home/surajkarki/Documents/My Workspace/Coding Works/omdena/.venv/lib/python3.11/site-packages (from darts) (2.4.0)\n",
            "Requirement already satisfied: tensorboardX>=2.1 in /home/surajkarki/Documents/My Workspace/Coding Works/omdena/.venv/lib/python3.11/site-packages (from darts) (2.6.2.2)\n",
            "Requirement already satisfied: torch>=1.8.0 in /home/surajkarki/Documents/My Workspace/Coding Works/omdena/.venv/lib/python3.11/site-packages (from darts) (2.4.1)\n",
            "Requirement already satisfied: pandas>=1.0.5 in /home/surajkarki/Documents/My Workspace/Coding Works/omdena/.venv/lib/python3.11/site-packages (from darts) (2.2.3)\n",
            "Requirement already satisfied: python-dateutil in /home/surajkarki/Documents/My Workspace/Coding Works/omdena/.venv/lib/python3.11/site-packages (from holidays>=0.11.1->darts) (2.9.0.post0)\n",
            "Requirement already satisfied: contourpy>=1.0.1 in /home/surajkarki/Documents/My Workspace/Coding Works/omdena/.venv/lib/python3.11/site-packages (from matplotlib>=3.3.0->darts) (1.3.0)\n",
            "Requirement already satisfied: cycler>=0.10 in /home/surajkarki/Documents/My Workspace/Coding Works/omdena/.venv/lib/python3.11/site-packages (from matplotlib>=3.3.0->darts) (0.12.1)\n",
            "Requirement already satisfied: fonttools>=4.22.0 in /home/surajkarki/Documents/My Workspace/Coding Works/omdena/.venv/lib/python3.11/site-packages (from matplotlib>=3.3.0->darts) (4.54.1)\n",
            "Requirement already satisfied: kiwisolver>=1.3.1 in /home/surajkarki/Documents/My Workspace/Coding Works/omdena/.venv/lib/python3.11/site-packages (from matplotlib>=3.3.0->darts) (1.4.7)\n",
            "Requirement already satisfied: packaging>=20.0 in /home/surajkarki/Documents/My Workspace/Coding Works/omdena/.venv/lib/python3.11/site-packages (from matplotlib>=3.3.0->darts) (24.1)\n",
            "Requirement already satisfied: pillow>=8 in /home/surajkarki/Documents/My Workspace/Coding Works/omdena/.venv/lib/python3.11/site-packages (from matplotlib>=3.3.0->darts) (10.4.0)\n",
            "Requirement already satisfied: pyparsing>=2.3.1 in /home/surajkarki/Documents/My Workspace/Coding Works/omdena/.venv/lib/python3.11/site-packages (from matplotlib>=3.3.0->darts) (3.1.4)\n",
            "Requirement already satisfied: pytz>=2020.1 in /home/surajkarki/Documents/My Workspace/Coding Works/omdena/.venv/lib/python3.11/site-packages (from pandas>=1.0.5->darts) (2024.2)\n",
            "Requirement already satisfied: tzdata>=2022.7 in /home/surajkarki/Documents/My Workspace/Coding Works/omdena/.venv/lib/python3.11/site-packages (from pandas>=1.0.5->darts) (2024.2)\n",
            "Requirement already satisfied: Cython!=0.29.18,!=0.29.31,>=0.29 in /home/surajkarki/Documents/My Workspace/Coding Works/omdena/.venv/lib/python3.11/site-packages (from pmdarima>=1.8.0->darts) (3.0.11)\n",
            "Requirement already satisfied: urllib3 in /home/surajkarki/Documents/My Workspace/Coding Works/omdena/.venv/lib/python3.11/site-packages (from pmdarima>=1.8.0->darts) (2.2.3)\n",
            "Requirement already satisfied: setuptools!=50.0.0,>=38.6.0 in /home/surajkarki/Documents/My Workspace/Coding Works/omdena/.venv/lib/python3.11/site-packages (from pmdarima>=1.8.0->darts) (66.1.1)\n",
            "Requirement already satisfied: numba>=0.51 in /home/surajkarki/Documents/My Workspace/Coding Works/omdena/.venv/lib/python3.11/site-packages (from pyod>=0.9.5->darts) (0.60.0)\n",
            "Requirement already satisfied: PyYAML>=5.4 in /home/surajkarki/Documents/My Workspace/Coding Works/omdena/.venv/lib/python3.11/site-packages (from pytorch-lightning>=1.5.0->darts) (6.0.2)\n",
            "Requirement already satisfied: fsspec[http]>=2022.5.0 in /home/surajkarki/Documents/My Workspace/Coding Works/omdena/.venv/lib/python3.11/site-packages (from pytorch-lightning>=1.5.0->darts) (2024.9.0)\n",
            "Requirement already satisfied: torchmetrics>=0.7.0 in /home/surajkarki/Documents/My Workspace/Coding Works/omdena/.venv/lib/python3.11/site-packages (from pytorch-lightning>=1.5.0->darts) (1.4.2)\n",
            "Requirement already satisfied: lightning-utilities>=0.10.0 in /home/surajkarki/Documents/My Workspace/Coding Works/omdena/.venv/lib/python3.11/site-packages (from pytorch-lightning>=1.5.0->darts) (0.11.7)\n",
            "Requirement already satisfied: charset-normalizer<4,>=2 in /home/surajkarki/Documents/My Workspace/Coding Works/omdena/.venv/lib/python3.11/site-packages (from requests>=2.22.0->darts) (3.3.2)\n",
            "Requirement already satisfied: idna<4,>=2.5 in /home/surajkarki/Documents/My Workspace/Coding Works/omdena/.venv/lib/python3.11/site-packages (from requests>=2.22.0->darts) (3.10)\n",
            "Requirement already satisfied: certifi>=2017.4.17 in /home/surajkarki/Documents/My Workspace/Coding Works/omdena/.venv/lib/python3.11/site-packages (from requests>=2.22.0->darts) (2024.8.30)\n",
            "Requirement already satisfied: threadpoolctl>=3.1.0 in /home/surajkarki/Documents/My Workspace/Coding Works/omdena/.venv/lib/python3.11/site-packages (from scikit-learn>=1.0.1->darts) (3.5.0)\n",
            "Requirement already satisfied: slicer==0.0.8 in /home/surajkarki/Documents/My Workspace/Coding Works/omdena/.venv/lib/python3.11/site-packages (from shap>=0.40.0->darts) (0.0.8)\n",
            "Requirement already satisfied: cloudpickle in /home/surajkarki/Documents/My Workspace/Coding Works/omdena/.venv/lib/python3.11/site-packages (from shap>=0.40.0->darts) (3.0.0)\n",
            "Requirement already satisfied: coreforecast>=0.0.12 in /home/surajkarki/Documents/My Workspace/Coding Works/omdena/.venv/lib/python3.11/site-packages (from statsforecast>=1.4->darts) (0.0.12)\n",
            "Requirement already satisfied: fugue>=0.8.1 in /home/surajkarki/Documents/My Workspace/Coding Works/omdena/.venv/lib/python3.11/site-packages (from statsforecast>=1.4->darts) (0.9.1)\n",
            "Requirement already satisfied: utilsforecast>=0.1.4 in /home/surajkarki/Documents/My Workspace/Coding Works/omdena/.venv/lib/python3.11/site-packages (from statsforecast>=1.4->darts) (0.2.5)\n",
            "Requirement already satisfied: patsy>=0.5.6 in /home/surajkarki/Documents/My Workspace/Coding Works/omdena/.venv/lib/python3.11/site-packages (from statsmodels>=0.14.0->darts) (0.5.6)\n",
            "Requirement already satisfied: protobuf>=3.20 in /home/surajkarki/Documents/My Workspace/Coding Works/omdena/.venv/lib/python3.11/site-packages (from tensorboardX>=2.1->darts) (5.28.2)\n",
            "Requirement already satisfied: filelock in /home/surajkarki/Documents/My Workspace/Coding Works/omdena/.venv/lib/python3.11/site-packages (from torch>=1.8.0->darts) (3.16.1)\n",
            "Requirement already satisfied: sympy in /home/surajkarki/Documents/My Workspace/Coding Works/omdena/.venv/lib/python3.11/site-packages (from torch>=1.8.0->darts) (1.13.3)\n",
            "Requirement already satisfied: networkx in /home/surajkarki/Documents/My Workspace/Coding Works/omdena/.venv/lib/python3.11/site-packages (from torch>=1.8.0->darts) (3.3)\n",
            "Requirement already satisfied: jinja2 in /home/surajkarki/Documents/My Workspace/Coding Works/omdena/.venv/lib/python3.11/site-packages (from torch>=1.8.0->darts) (3.1.4)\n",
            "Requirement already satisfied: nvidia-cuda-nvrtc-cu12==12.1.105 in /home/surajkarki/Documents/My Workspace/Coding Works/omdena/.venv/lib/python3.11/site-packages (from torch>=1.8.0->darts) (12.1.105)\n",
            "Requirement already satisfied: nvidia-cuda-runtime-cu12==12.1.105 in /home/surajkarki/Documents/My Workspace/Coding Works/omdena/.venv/lib/python3.11/site-packages (from torch>=1.8.0->darts) (12.1.105)\n",
            "Requirement already satisfied: nvidia-cuda-cupti-cu12==12.1.105 in /home/surajkarki/Documents/My Workspace/Coding Works/omdena/.venv/lib/python3.11/site-packages (from torch>=1.8.0->darts) (12.1.105)\n",
            "Requirement already satisfied: nvidia-cudnn-cu12==9.1.0.70 in /home/surajkarki/Documents/My Workspace/Coding Works/omdena/.venv/lib/python3.11/site-packages (from torch>=1.8.0->darts) (9.1.0.70)\n",
            "Requirement already satisfied: nvidia-cublas-cu12==12.1.3.1 in /home/surajkarki/Documents/My Workspace/Coding Works/omdena/.venv/lib/python3.11/site-packages (from torch>=1.8.0->darts) (12.1.3.1)\n",
            "Requirement already satisfied: nvidia-cufft-cu12==11.0.2.54 in /home/surajkarki/Documents/My Workspace/Coding Works/omdena/.venv/lib/python3.11/site-packages (from torch>=1.8.0->darts) (11.0.2.54)\n",
            "Requirement already satisfied: nvidia-curand-cu12==10.3.2.106 in /home/surajkarki/Documents/My Workspace/Coding Works/omdena/.venv/lib/python3.11/site-packages (from torch>=1.8.0->darts) (10.3.2.106)\n",
            "Requirement already satisfied: nvidia-cusolver-cu12==11.4.5.107 in /home/surajkarki/Documents/My Workspace/Coding Works/omdena/.venv/lib/python3.11/site-packages (from torch>=1.8.0->darts) (11.4.5.107)\n",
            "Requirement already satisfied: nvidia-cusparse-cu12==12.1.0.106 in /home/surajkarki/Documents/My Workspace/Coding Works/omdena/.venv/lib/python3.11/site-packages (from torch>=1.8.0->darts) (12.1.0.106)\n",
            "Requirement already satisfied: nvidia-nccl-cu12==2.20.5 in /home/surajkarki/Documents/My Workspace/Coding Works/omdena/.venv/lib/python3.11/site-packages (from torch>=1.8.0->darts) (2.20.5)\n",
            "Requirement already satisfied: nvidia-nvtx-cu12==12.1.105 in /home/surajkarki/Documents/My Workspace/Coding Works/omdena/.venv/lib/python3.11/site-packages (from torch>=1.8.0->darts) (12.1.105)\n",
            "Requirement already satisfied: triton==3.0.0 in /home/surajkarki/Documents/My Workspace/Coding Works/omdena/.venv/lib/python3.11/site-packages (from torch>=1.8.0->darts) (3.0.0)\n",
            "Requirement already satisfied: nvidia-nvjitlink-cu12 in /home/surajkarki/Documents/My Workspace/Coding Works/omdena/.venv/lib/python3.11/site-packages (from nvidia-cusolver-cu12==11.4.5.107->torch>=1.8.0->darts) (12.6.77)\n",
            "Requirement already satisfied: aiohttp!=4.0.0a0,!=4.0.0a1 in /home/surajkarki/Documents/My Workspace/Coding Works/omdena/.venv/lib/python3.11/site-packages (from fsspec[http]>=2022.5.0->pytorch-lightning>=1.5.0->darts) (3.10.8)\n",
            "Requirement already satisfied: triad>=0.9.7 in /home/surajkarki/Documents/My Workspace/Coding Works/omdena/.venv/lib/python3.11/site-packages (from fugue>=0.8.1->statsforecast>=1.4->darts) (0.9.8)\n",
            "Requirement already satisfied: adagio>=0.2.4 in /home/surajkarki/Documents/My Workspace/Coding Works/omdena/.venv/lib/python3.11/site-packages (from fugue>=0.8.1->statsforecast>=1.4->darts) (0.2.6)\n",
            "Requirement already satisfied: llvmlite<0.44,>=0.43.0dev0 in /home/surajkarki/Documents/My Workspace/Coding Works/omdena/.venv/lib/python3.11/site-packages (from numba>=0.51->pyod>=0.9.5->darts) (0.43.0)\n",
            "Requirement already satisfied: six in /home/surajkarki/Documents/My Workspace/Coding Works/omdena/.venv/lib/python3.11/site-packages (from patsy>=0.5.6->statsmodels>=0.14.0->darts) (1.16.0)\n",
            "Requirement already satisfied: MarkupSafe>=2.0 in /home/surajkarki/Documents/My Workspace/Coding Works/omdena/.venv/lib/python3.11/site-packages (from jinja2->torch>=1.8.0->darts) (2.1.5)\n",
            "Requirement already satisfied: mpmath<1.4,>=1.1.0 in /home/surajkarki/Documents/My Workspace/Coding Works/omdena/.venv/lib/python3.11/site-packages (from sympy->torch>=1.8.0->darts) (1.3.0)\n",
            "Requirement already satisfied: aiohappyeyeballs>=2.3.0 in /home/surajkarki/Documents/My Workspace/Coding Works/omdena/.venv/lib/python3.11/site-packages (from aiohttp!=4.0.0a0,!=4.0.0a1->fsspec[http]>=2022.5.0->pytorch-lightning>=1.5.0->darts) (2.4.3)\n",
            "Requirement already satisfied: aiosignal>=1.1.2 in /home/surajkarki/Documents/My Workspace/Coding Works/omdena/.venv/lib/python3.11/site-packages (from aiohttp!=4.0.0a0,!=4.0.0a1->fsspec[http]>=2022.5.0->pytorch-lightning>=1.5.0->darts) (1.3.1)\n",
            "Requirement already satisfied: attrs>=17.3.0 in /home/surajkarki/Documents/My Workspace/Coding Works/omdena/.venv/lib/python3.11/site-packages (from aiohttp!=4.0.0a0,!=4.0.0a1->fsspec[http]>=2022.5.0->pytorch-lightning>=1.5.0->darts) (24.2.0)\n",
            "Requirement already satisfied: frozenlist>=1.1.1 in /home/surajkarki/Documents/My Workspace/Coding Works/omdena/.venv/lib/python3.11/site-packages (from aiohttp!=4.0.0a0,!=4.0.0a1->fsspec[http]>=2022.5.0->pytorch-lightning>=1.5.0->darts) (1.4.1)\n",
            "Requirement already satisfied: multidict<7.0,>=4.5 in /home/surajkarki/Documents/My Workspace/Coding Works/omdena/.venv/lib/python3.11/site-packages (from aiohttp!=4.0.0a0,!=4.0.0a1->fsspec[http]>=2022.5.0->pytorch-lightning>=1.5.0->darts) (6.1.0)\n",
            "Requirement already satisfied: yarl<2.0,>=1.12.0 in /home/surajkarki/Documents/My Workspace/Coding Works/omdena/.venv/lib/python3.11/site-packages (from aiohttp!=4.0.0a0,!=4.0.0a1->fsspec[http]>=2022.5.0->pytorch-lightning>=1.5.0->darts) (1.13.1)\n",
            "Requirement already satisfied: pyarrow>=6.0.1 in /home/surajkarki/Documents/My Workspace/Coding Works/omdena/.venv/lib/python3.11/site-packages (from triad>=0.9.7->fugue>=0.8.1->statsforecast>=1.4->darts) (17.0.0)\n",
            "Requirement already satisfied: fs in /home/surajkarki/Documents/My Workspace/Coding Works/omdena/.venv/lib/python3.11/site-packages (from triad>=0.9.7->fugue>=0.8.1->statsforecast>=1.4->darts) (2.4.16)\n",
            "Requirement already satisfied: appdirs~=1.4.3 in /home/surajkarki/Documents/My Workspace/Coding Works/omdena/.venv/lib/python3.11/site-packages (from fs->triad>=0.9.7->fugue>=0.8.1->statsforecast>=1.4->darts) (1.4.4)\n",
            "Requirement already satisfied: dask[dataframe] in /home/surajkarki/Documents/My Workspace/Coding Works/omdena/.venv/lib/python3.11/site-packages (2024.9.1)\n",
            "Requirement already satisfied: click>=8.1 in /home/surajkarki/Documents/My Workspace/Coding Works/omdena/.venv/lib/python3.11/site-packages (from dask[dataframe]) (8.1.7)\n",
            "Requirement already satisfied: cloudpickle>=3.0.0 in /home/surajkarki/Documents/My Workspace/Coding Works/omdena/.venv/lib/python3.11/site-packages (from dask[dataframe]) (3.0.0)\n",
            "Requirement already satisfied: fsspec>=2021.09.0 in /home/surajkarki/Documents/My Workspace/Coding Works/omdena/.venv/lib/python3.11/site-packages (from dask[dataframe]) (2024.9.0)\n",
            "Requirement already satisfied: packaging>=20.0 in /home/surajkarki/Documents/My Workspace/Coding Works/omdena/.venv/lib/python3.11/site-packages (from dask[dataframe]) (24.1)\n",
            "Requirement already satisfied: partd>=1.4.0 in /home/surajkarki/Documents/My Workspace/Coding Works/omdena/.venv/lib/python3.11/site-packages (from dask[dataframe]) (1.4.2)\n",
            "Requirement already satisfied: pyyaml>=5.3.1 in /home/surajkarki/Documents/My Workspace/Coding Works/omdena/.venv/lib/python3.11/site-packages (from dask[dataframe]) (6.0.2)\n",
            "Requirement already satisfied: toolz>=0.10.0 in /home/surajkarki/Documents/My Workspace/Coding Works/omdena/.venv/lib/python3.11/site-packages (from dask[dataframe]) (0.12.1)\n",
            "Requirement already satisfied: importlib-metadata>=4.13.0 in /home/surajkarki/Documents/My Workspace/Coding Works/omdena/.venv/lib/python3.11/site-packages (from dask[dataframe]) (8.5.0)\n",
            "Requirement already satisfied: pandas>=2.0 in /home/surajkarki/Documents/My Workspace/Coding Works/omdena/.venv/lib/python3.11/site-packages (from dask[dataframe]) (2.2.3)\n",
            "Requirement already satisfied: dask-expr<1.2,>=1.1 in /home/surajkarki/Documents/My Workspace/Coding Works/omdena/.venv/lib/python3.11/site-packages (from dask[dataframe]) (1.1.15)\n",
            "Requirement already satisfied: pyarrow>=14.0.1 in /home/surajkarki/Documents/My Workspace/Coding Works/omdena/.venv/lib/python3.11/site-packages (from dask-expr<1.2,>=1.1->dask[dataframe]) (17.0.0)\n",
            "Requirement already satisfied: zipp>=3.20 in /home/surajkarki/Documents/My Workspace/Coding Works/omdena/.venv/lib/python3.11/site-packages (from importlib-metadata>=4.13.0->dask[dataframe]) (3.20.2)\n",
            "Requirement already satisfied: numpy>=1.23.2 in /home/surajkarki/Documents/My Workspace/Coding Works/omdena/.venv/lib/python3.11/site-packages (from pandas>=2.0->dask[dataframe]) (1.26.4)\n",
            "Requirement already satisfied: python-dateutil>=2.8.2 in /home/surajkarki/Documents/My Workspace/Coding Works/omdena/.venv/lib/python3.11/site-packages (from pandas>=2.0->dask[dataframe]) (2.9.0.post0)\n",
            "Requirement already satisfied: pytz>=2020.1 in /home/surajkarki/Documents/My Workspace/Coding Works/omdena/.venv/lib/python3.11/site-packages (from pandas>=2.0->dask[dataframe]) (2024.2)\n",
            "Requirement already satisfied: tzdata>=2022.7 in /home/surajkarki/Documents/My Workspace/Coding Works/omdena/.venv/lib/python3.11/site-packages (from pandas>=2.0->dask[dataframe]) (2024.2)\n",
            "Requirement already satisfied: locket in /home/surajkarki/Documents/My Workspace/Coding Works/omdena/.venv/lib/python3.11/site-packages (from partd>=1.4.0->dask[dataframe]) (1.0.0)\n",
            "Requirement already satisfied: six>=1.5 in /home/surajkarki/Documents/My Workspace/Coding Works/omdena/.venv/lib/python3.11/site-packages (from python-dateutil>=2.8.2->pandas>=2.0->dask[dataframe]) (1.16.0)\n",
            "Requirement already satisfied: statsmodels in /home/surajkarki/Documents/My Workspace/Coding Works/omdena/.venv/lib/python3.11/site-packages (0.14.3)\n",
            "Requirement already satisfied: numpy<3,>=1.22.3 in /home/surajkarki/Documents/My Workspace/Coding Works/omdena/.venv/lib/python3.11/site-packages (from statsmodels) (1.26.4)\n",
            "Requirement already satisfied: scipy!=1.9.2,>=1.8 in /home/surajkarki/Documents/My Workspace/Coding Works/omdena/.venv/lib/python3.11/site-packages (from statsmodels) (1.14.1)\n",
            "Requirement already satisfied: pandas!=2.1.0,>=1.4 in /home/surajkarki/Documents/My Workspace/Coding Works/omdena/.venv/lib/python3.11/site-packages (from statsmodels) (2.2.3)\n",
            "Requirement already satisfied: patsy>=0.5.6 in /home/surajkarki/Documents/My Workspace/Coding Works/omdena/.venv/lib/python3.11/site-packages (from statsmodels) (0.5.6)\n",
            "Requirement already satisfied: packaging>=21.3 in /home/surajkarki/Documents/My Workspace/Coding Works/omdena/.venv/lib/python3.11/site-packages (from statsmodels) (24.1)\n",
            "Requirement already satisfied: python-dateutil>=2.8.2 in /home/surajkarki/Documents/My Workspace/Coding Works/omdena/.venv/lib/python3.11/site-packages (from pandas!=2.1.0,>=1.4->statsmodels) (2.9.0.post0)\n",
            "Requirement already satisfied: pytz>=2020.1 in /home/surajkarki/Documents/My Workspace/Coding Works/omdena/.venv/lib/python3.11/site-packages (from pandas!=2.1.0,>=1.4->statsmodels) (2024.2)\n",
            "Requirement already satisfied: tzdata>=2022.7 in /home/surajkarki/Documents/My Workspace/Coding Works/omdena/.venv/lib/python3.11/site-packages (from pandas!=2.1.0,>=1.4->statsmodels) (2024.2)\n",
            "Requirement already satisfied: six in /home/surajkarki/Documents/My Workspace/Coding Works/omdena/.venv/lib/python3.11/site-packages (from patsy>=0.5.6->statsmodels) (1.16.0)\n"
          ]
        }
      ],
      "source": [
        "!pip install darts\n",
        "!pip install dask[dataframe]\n",
        "!pip install statsmodels"
      ]
    },
    {
      "cell_type": "markdown",
      "metadata": {
        "id": "UVALKCSZblep"
      },
      "source": [
        "## 1. Imports"
      ]
    },
    {
      "cell_type": "code",
      "execution_count": 2,
      "metadata": {
        "execution": {
          "iopub.execute_input": "2024-09-09T15:50:43.281960Z",
          "iopub.status.busy": "2024-09-09T15:50:43.281628Z",
          "iopub.status.idle": "2024-09-09T15:50:44.415134Z",
          "shell.execute_reply": "2024-09-09T15:50:44.414219Z",
          "shell.execute_reply.started": "2024-09-09T15:50:43.281925Z"
        },
        "id": "sFMbAZKQbKXy",
        "trusted": true
      },
      "outputs": [],
      "source": [
        "import matplotlib.pyplot as plt\n",
        "import pandas as pd\n",
        "\n",
        "from darts import TimeSeries\n",
        "from sklearn.linear_model import Ridge\n",
        "\n",
        "%matplotlib inline"
      ]
    },
    {
      "cell_type": "markdown",
      "metadata": {
        "id": "x82be9RabvJ_"
      },
      "source": [
        "## 2. Load Dataset"
      ]
    },
    {
      "cell_type": "code",
      "execution_count": 3,
      "metadata": {
        "execution": {
          "iopub.execute_input": "2024-09-09T15:50:44.416665Z",
          "iopub.status.busy": "2024-09-09T15:50:44.416221Z",
          "iopub.status.idle": "2024-09-09T15:50:44.558810Z",
          "shell.execute_reply": "2024-09-09T15:50:44.558077Z",
          "shell.execute_reply.started": "2024-09-09T15:50:44.416631Z"
        },
        "id": "A3UWz45cbuOw",
        "trusted": true
      },
      "outputs": [],
      "source": [
        "df = pd.read_csv(\"../data/Copy of Sri_lanka_dengue_cases_weather_weekly_2007_2024_.csv\")"
      ]
    },
    {
      "cell_type": "code",
      "execution_count": 4,
      "metadata": {
        "colab": {
          "base_uri": "https://localhost:8080/",
          "height": 296
        },
        "execution": {
          "iopub.execute_input": "2024-09-09T15:50:44.562610Z",
          "iopub.status.busy": "2024-09-09T15:50:44.562319Z",
          "iopub.status.idle": "2024-09-09T15:50:44.592401Z",
          "shell.execute_reply": "2024-09-09T15:50:44.591559Z",
          "shell.execute_reply.started": "2024-09-09T15:50:44.562578Z"
        },
        "id": "C63dPm5zb_Sz",
        "outputId": "dbcf4292-ca2e-4c45-a993-656ff980c8f6",
        "trusted": true
      },
      "outputs": [
        {
          "data": {
            "text/html": [
              "<div>\n",
              "<style scoped>\n",
              "    .dataframe tbody tr th:only-of-type {\n",
              "        vertical-align: middle;\n",
              "    }\n",
              "\n",
              "    .dataframe tbody tr th {\n",
              "        vertical-align: top;\n",
              "    }\n",
              "\n",
              "    .dataframe thead th {\n",
              "        text-align: right;\n",
              "    }\n",
              "</style>\n",
              "<table border=\"1\" class=\"dataframe\">\n",
              "  <thead>\n",
              "    <tr style=\"text-align: right;\">\n",
              "      <th></th>\n",
              "      <th>District</th>\n",
              "      <th>Number_of_Cases</th>\n",
              "      <th>Week_Start_Date</th>\n",
              "      <th>Month</th>\n",
              "      <th>Year</th>\n",
              "      <th>Week</th>\n",
              "      <th>Week_End_Date</th>\n",
              "      <th>Avg Max Temp (°C)</th>\n",
              "      <th>Avg Min Temp (°C)</th>\n",
              "      <th>Avg Apparent Max Temp (°C)</th>\n",
              "      <th>Avg Apparent Min Temp (°C)</th>\n",
              "      <th>Total Precipitation (mm)</th>\n",
              "      <th>Total Rain (mm)</th>\n",
              "      <th>Avg Wind Speed (km/h)</th>\n",
              "      <th>Max Wind Gusts (km/h)</th>\n",
              "      <th>Weather Code</th>\n",
              "      <th>Avg Daylight Duration (hours)</th>\n",
              "      <th>Avg Sunrise Time</th>\n",
              "      <th>Avg Sunset Time</th>\n",
              "    </tr>\n",
              "  </thead>\n",
              "  <tbody>\n",
              "    <tr>\n",
              "      <th>0</th>\n",
              "      <td>Ampara</td>\n",
              "      <td>0</td>\n",
              "      <td>2007-01-01</td>\n",
              "      <td>1</td>\n",
              "      <td>2007</td>\n",
              "      <td>1</td>\n",
              "      <td>2007-01-08</td>\n",
              "      <td>26.9375</td>\n",
              "      <td>21.8625</td>\n",
              "      <td>28.8500</td>\n",
              "      <td>24.1000</td>\n",
              "      <td>8.0</td>\n",
              "      <td>8.0</td>\n",
              "      <td>18.2000</td>\n",
              "      <td>44.3</td>\n",
              "      <td>3</td>\n",
              "      <td>11.714583</td>\n",
              "      <td>376</td>\n",
              "      <td>1079</td>\n",
              "    </tr>\n",
              "    <tr>\n",
              "      <th>1</th>\n",
              "      <td>Ampara</td>\n",
              "      <td>0</td>\n",
              "      <td>2007-01-08</td>\n",
              "      <td>1</td>\n",
              "      <td>2007</td>\n",
              "      <td>2</td>\n",
              "      <td>2007-01-15</td>\n",
              "      <td>26.3500</td>\n",
              "      <td>23.3250</td>\n",
              "      <td>30.2625</td>\n",
              "      <td>26.7000</td>\n",
              "      <td>86.1</td>\n",
              "      <td>86.1</td>\n",
              "      <td>17.0250</td>\n",
              "      <td>43.6</td>\n",
              "      <td>53</td>\n",
              "      <td>11.733333</td>\n",
              "      <td>378</td>\n",
              "      <td>1082</td>\n",
              "    </tr>\n",
              "    <tr>\n",
              "      <th>2</th>\n",
              "      <td>Ampara</td>\n",
              "      <td>0</td>\n",
              "      <td>2007-01-15</td>\n",
              "      <td>1</td>\n",
              "      <td>2007</td>\n",
              "      <td>3</td>\n",
              "      <td>2007-01-22</td>\n",
              "      <td>27.2125</td>\n",
              "      <td>23.1625</td>\n",
              "      <td>29.5750</td>\n",
              "      <td>25.9625</td>\n",
              "      <td>3.1</td>\n",
              "      <td>3.1</td>\n",
              "      <td>20.1875</td>\n",
              "      <td>48.2</td>\n",
              "      <td>51</td>\n",
              "      <td>11.754167</td>\n",
              "      <td>380</td>\n",
              "      <td>1085</td>\n",
              "    </tr>\n",
              "    <tr>\n",
              "      <th>3</th>\n",
              "      <td>Ampara</td>\n",
              "      <td>0</td>\n",
              "      <td>2007-01-22</td>\n",
              "      <td>1</td>\n",
              "      <td>2007</td>\n",
              "      <td>4</td>\n",
              "      <td>2007-01-29</td>\n",
              "      <td>26.7250</td>\n",
              "      <td>23.0375</td>\n",
              "      <td>29.9500</td>\n",
              "      <td>26.1125</td>\n",
              "      <td>53.6</td>\n",
              "      <td>53.6</td>\n",
              "      <td>17.2000</td>\n",
              "      <td>42.5</td>\n",
              "      <td>61</td>\n",
              "      <td>11.783333</td>\n",
              "      <td>381</td>\n",
              "      <td>1088</td>\n",
              "    </tr>\n",
              "    <tr>\n",
              "      <th>4</th>\n",
              "      <td>Ampara</td>\n",
              "      <td>0</td>\n",
              "      <td>2007-01-29</td>\n",
              "      <td>1</td>\n",
              "      <td>2007</td>\n",
              "      <td>5</td>\n",
              "      <td>2007-02-05</td>\n",
              "      <td>27.3625</td>\n",
              "      <td>22.9625</td>\n",
              "      <td>30.7500</td>\n",
              "      <td>26.1250</td>\n",
              "      <td>8.2</td>\n",
              "      <td>8.2</td>\n",
              "      <td>17.2625</td>\n",
              "      <td>40.0</td>\n",
              "      <td>51</td>\n",
              "      <td>11.812500</td>\n",
              "      <td>382</td>\n",
              "      <td>1090</td>\n",
              "    </tr>\n",
              "  </tbody>\n",
              "</table>\n",
              "</div>"
            ],
            "text/plain": [
              "  District  Number_of_Cases Week_Start_Date  Month  Year  Week Week_End_Date  \\\n",
              "0   Ampara                0      2007-01-01      1  2007     1    2007-01-08   \n",
              "1   Ampara                0      2007-01-08      1  2007     2    2007-01-15   \n",
              "2   Ampara                0      2007-01-15      1  2007     3    2007-01-22   \n",
              "3   Ampara                0      2007-01-22      1  2007     4    2007-01-29   \n",
              "4   Ampara                0      2007-01-29      1  2007     5    2007-02-05   \n",
              "\n",
              "   Avg Max Temp (°C)  Avg Min Temp (°C)  Avg Apparent Max Temp (°C)  \\\n",
              "0            26.9375            21.8625                     28.8500   \n",
              "1            26.3500            23.3250                     30.2625   \n",
              "2            27.2125            23.1625                     29.5750   \n",
              "3            26.7250            23.0375                     29.9500   \n",
              "4            27.3625            22.9625                     30.7500   \n",
              "\n",
              "   Avg Apparent Min Temp (°C)  Total Precipitation (mm)  Total Rain (mm)  \\\n",
              "0                     24.1000                       8.0              8.0   \n",
              "1                     26.7000                      86.1             86.1   \n",
              "2                     25.9625                       3.1              3.1   \n",
              "3                     26.1125                      53.6             53.6   \n",
              "4                     26.1250                       8.2              8.2   \n",
              "\n",
              "   Avg Wind Speed (km/h)  Max Wind Gusts (km/h)  Weather Code  \\\n",
              "0                18.2000                   44.3             3   \n",
              "1                17.0250                   43.6            53   \n",
              "2                20.1875                   48.2            51   \n",
              "3                17.2000                   42.5            61   \n",
              "4                17.2625                   40.0            51   \n",
              "\n",
              "   Avg Daylight Duration (hours)  Avg Sunrise Time  Avg Sunset Time  \n",
              "0                      11.714583               376             1079  \n",
              "1                      11.733333               378             1082  \n",
              "2                      11.754167               380             1085  \n",
              "3                      11.783333               381             1088  \n",
              "4                      11.812500               382             1090  "
            ]
          },
          "execution_count": 4,
          "metadata": {},
          "output_type": "execute_result"
        }
      ],
      "source": [
        "df.head()"
      ]
    },
    {
      "cell_type": "code",
      "execution_count": 5,
      "metadata": {
        "colab": {
          "base_uri": "https://localhost:8080/"
        },
        "execution": {
          "iopub.execute_input": "2024-09-09T15:50:44.605110Z",
          "iopub.status.busy": "2024-09-09T15:50:44.604815Z",
          "iopub.status.idle": "2024-09-09T15:50:44.611482Z",
          "shell.execute_reply": "2024-09-09T15:50:44.610610Z",
          "shell.execute_reply.started": "2024-09-09T15:50:44.605078Z"
        },
        "id": "GSUtuMLqcA2m",
        "outputId": "2dc37d26-5bc6-4373-f44e-f58e19106ada",
        "trusted": true
      },
      "outputs": [
        {
          "data": {
            "text/plain": [
              "22900"
            ]
          },
          "execution_count": 5,
          "metadata": {},
          "output_type": "execute_result"
        }
      ],
      "source": [
        "len(df)"
      ]
    },
    {
      "cell_type": "code",
      "execution_count": 6,
      "metadata": {
        "colab": {
          "base_uri": "https://localhost:8080/"
        },
        "execution": {
          "iopub.execute_input": "2024-09-09T15:50:44.612721Z",
          "iopub.status.busy": "2024-09-09T15:50:44.612469Z",
          "iopub.status.idle": "2024-09-09T15:50:44.626398Z",
          "shell.execute_reply": "2024-09-09T15:50:44.625443Z",
          "shell.execute_reply.started": "2024-09-09T15:50:44.612693Z"
        },
        "id": "XE2i0NsecFKG",
        "outputId": "1f0c9a96-f410-44eb-9c87-7d67b229de67",
        "trusted": true
      },
      "outputs": [
        {
          "data": {
            "text/plain": [
              "array(['Ampara', 'Anuradhapura', 'Badulla', 'Batticaloa', 'Colombo',\n",
              "       'Galle', 'Gampaha', 'Hambantota', 'Jaffna', 'Kalutara', 'Kandy',\n",
              "       'Kegalle', 'Kilinochchi', 'Kurunegala', 'Mannar', 'Matale',\n",
              "       'Matara', 'Monaragala', 'Mullaitivu', 'NuwaraEliya', 'Polonnaruwa',\n",
              "       'Puttalam', 'Ratnapura', 'Trincomalee', 'Vavuniya'], dtype=object)"
            ]
          },
          "execution_count": 6,
          "metadata": {},
          "output_type": "execute_result"
        }
      ],
      "source": [
        "districts = df['District'].unique()\n",
        "districts"
      ]
    },
    {
      "cell_type": "markdown",
      "metadata": {
        "id": "vXUwFkmbmWJ2"
      },
      "source": [
        "## 3. Small Visualization"
      ]
    },
    {
      "cell_type": "code",
      "execution_count": 7,
      "metadata": {
        "colab": {
          "base_uri": "https://localhost:8080/"
        },
        "execution": {
          "iopub.execute_input": "2024-09-09T15:50:44.627816Z",
          "iopub.status.busy": "2024-09-09T15:50:44.627526Z",
          "iopub.status.idle": "2024-09-09T15:50:44.645567Z",
          "shell.execute_reply": "2024-09-09T15:50:44.644684Z",
          "shell.execute_reply.started": "2024-09-09T15:50:44.627773Z"
        },
        "id": "WkhmCHSvmauA",
        "outputId": "65cef02c-595b-484e-f247-7696f37e379c",
        "trusted": true
      },
      "outputs": [
        {
          "name": "stdout",
          "output_type": "stream",
          "text": [
            "No duplicates found.\n"
          ]
        }
      ],
      "source": [
        "# Check Duplicate values\n",
        "duplicates = df[['District', 'Week_Start_Date', 'Week_End_Date']].duplicated().any()\n",
        "if duplicates:\n",
        "    print(\"There are duplicate values.\")\n",
        "else:\n",
        "    print(\"No duplicates found.\")"
      ]
    },
    {
      "cell_type": "code",
      "execution_count": 8,
      "metadata": {
        "colab": {
          "base_uri": "https://localhost:8080/",
          "height": 633
        },
        "execution": {
          "iopub.execute_input": "2024-09-09T15:50:44.646938Z",
          "iopub.status.busy": "2024-09-09T15:50:44.646662Z",
          "iopub.status.idle": "2024-09-09T15:50:45.217101Z",
          "shell.execute_reply": "2024-09-09T15:50:45.216305Z",
          "shell.execute_reply.started": "2024-09-09T15:50:44.646908Z"
        },
        "id": "nm5iyphelll2",
        "outputId": "edeeacb1-4b00-4ff1-a28d-40b786c5eb89",
        "trusted": true
      },
      "outputs": [
        {
          "data": {
            "image/png": "[encoded data removed]",
            "text/plain": [
              "<Figure size 1000x600 with 1 Axes>"
            ]
          },
          "metadata": {},
          "output_type": "display_data"
        }
      ],
      "source": [
        "# Group by District and sum the Number of Cases\n",
        "district_cases = df.groupby('District')['Number_of_Cases'].sum().reset_index()\n",
        "\n",
        "# Plotting the histogram\n",
        "plt.figure(figsize=(10, 6))\n",
        "plt.bar(district_cases['District'], district_cases['Number_of_Cases'])\n",
        "plt.xlabel('Districts')\n",
        "plt.ylabel('Number of Cases')\n",
        "plt.title('Number of Cases by Districts')\n",
        "plt.xticks(rotation=90)\n",
        "plt.show()\n"
      ]
    },
    {
      "cell_type": "markdown",
      "metadata": {
        "id": "-359UEQCmm1Z"
      },
      "source": [
        "## 4. Minor pre-processing\n",
        "1. Only taking single timestamp for each row. Either `Week_Start_Date` or `Week_Start_Date`. We gonna take `Week_End_Date`.\n",
        "2. Convert the `Week_End_Date` to Python Datetime format.\n",
        "3. Eliminate un-used features such as `Week_Start_Date`, `Month`, `Year`, and `Week`"
      ]
    },
    {
      "cell_type": "code",
      "execution_count": 9,
      "metadata": {
        "execution": {
          "iopub.execute_input": "2024-09-09T15:50:45.220681Z",
          "iopub.status.busy": "2024-09-09T15:50:45.220358Z",
          "iopub.status.idle": "2024-09-09T15:50:45.236111Z",
          "shell.execute_reply": "2024-09-09T15:50:45.234894Z",
          "shell.execute_reply.started": "2024-09-09T15:50:45.220647Z"
        },
        "id": "nN8uuQI4qdK4",
        "trusted": true
      },
      "outputs": [],
      "source": [
        "df['Week_End_Date'] = pd.to_datetime(df['Week_End_Date'])"
      ]
    },
    {
      "cell_type": "code",
      "execution_count": 10,
      "metadata": {
        "colab": {
          "base_uri": "https://localhost:8080/",
          "height": 296
        },
        "execution": {
          "iopub.execute_input": "2024-09-09T15:50:45.237734Z",
          "iopub.status.busy": "2024-09-09T15:50:45.237376Z",
          "iopub.status.idle": "2024-09-09T15:50:45.262586Z",
          "shell.execute_reply": "2024-09-09T15:50:45.261666Z",
          "shell.execute_reply.started": "2024-09-09T15:50:45.237701Z"
        },
        "id": "g1f0vkyaok0v",
        "outputId": "990f721b-12e3-45ad-a2d9-ae3603a54526",
        "trusted": true
      },
      "outputs": [
        {
          "data": {
            "text/html": [
              "<div>\n",
              "<style scoped>\n",
              "    .dataframe tbody tr th:only-of-type {\n",
              "        vertical-align: middle;\n",
              "    }\n",
              "\n",
              "    .dataframe tbody tr th {\n",
              "        vertical-align: top;\n",
              "    }\n",
              "\n",
              "    .dataframe thead th {\n",
              "        text-align: right;\n",
              "    }\n",
              "</style>\n",
              "<table border=\"1\" class=\"dataframe\">\n",
              "  <thead>\n",
              "    <tr style=\"text-align: right;\">\n",
              "      <th></th>\n",
              "      <th>District</th>\n",
              "      <th>Number_of_Cases</th>\n",
              "      <th>Week_Start_Date</th>\n",
              "      <th>Month</th>\n",
              "      <th>Year</th>\n",
              "      <th>Week</th>\n",
              "      <th>Week_End_Date</th>\n",
              "      <th>Avg Max Temp (°C)</th>\n",
              "      <th>Avg Min Temp (°C)</th>\n",
              "      <th>Avg Apparent Max Temp (°C)</th>\n",
              "      <th>Avg Apparent Min Temp (°C)</th>\n",
              "      <th>Total Precipitation (mm)</th>\n",
              "      <th>Total Rain (mm)</th>\n",
              "      <th>Avg Wind Speed (km/h)</th>\n",
              "      <th>Max Wind Gusts (km/h)</th>\n",
              "      <th>Weather Code</th>\n",
              "      <th>Avg Daylight Duration (hours)</th>\n",
              "      <th>Avg Sunrise Time</th>\n",
              "      <th>Avg Sunset Time</th>\n",
              "    </tr>\n",
              "  </thead>\n",
              "  <tbody>\n",
              "    <tr>\n",
              "      <th>0</th>\n",
              "      <td>Ampara</td>\n",
              "      <td>0</td>\n",
              "      <td>2007-01-01</td>\n",
              "      <td>1</td>\n",
              "      <td>2007</td>\n",
              "      <td>1</td>\n",
              "      <td>2007-01-08</td>\n",
              "      <td>26.9375</td>\n",
              "      <td>21.8625</td>\n",
              "      <td>28.8500</td>\n",
              "      <td>24.1000</td>\n",
              "      <td>8.0</td>\n",
              "      <td>8.0</td>\n",
              "      <td>18.2000</td>\n",
              "      <td>44.3</td>\n",
              "      <td>3</td>\n",
              "      <td>11.714583</td>\n",
              "      <td>376</td>\n",
              "      <td>1079</td>\n",
              "    </tr>\n",
              "    <tr>\n",
              "      <th>1</th>\n",
              "      <td>Ampara</td>\n",
              "      <td>0</td>\n",
              "      <td>2007-01-08</td>\n",
              "      <td>1</td>\n",
              "      <td>2007</td>\n",
              "      <td>2</td>\n",
              "      <td>2007-01-15</td>\n",
              "      <td>26.3500</td>\n",
              "      <td>23.3250</td>\n",
              "      <td>30.2625</td>\n",
              "      <td>26.7000</td>\n",
              "      <td>86.1</td>\n",
              "      <td>86.1</td>\n",
              "      <td>17.0250</td>\n",
              "      <td>43.6</td>\n",
              "      <td>53</td>\n",
              "      <td>11.733333</td>\n",
              "      <td>378</td>\n",
              "      <td>1082</td>\n",
              "    </tr>\n",
              "    <tr>\n",
              "      <th>2</th>\n",
              "      <td>Ampara</td>\n",
              "      <td>0</td>\n",
              "      <td>2007-01-15</td>\n",
              "      <td>1</td>\n",
              "      <td>2007</td>\n",
              "      <td>3</td>\n",
              "      <td>2007-01-22</td>\n",
              "      <td>27.2125</td>\n",
              "      <td>23.1625</td>\n",
              "      <td>29.5750</td>\n",
              "      <td>25.9625</td>\n",
              "      <td>3.1</td>\n",
              "      <td>3.1</td>\n",
              "      <td>20.1875</td>\n",
              "      <td>48.2</td>\n",
              "      <td>51</td>\n",
              "      <td>11.754167</td>\n",
              "      <td>380</td>\n",
              "      <td>1085</td>\n",
              "    </tr>\n",
              "    <tr>\n",
              "      <th>3</th>\n",
              "      <td>Ampara</td>\n",
              "      <td>0</td>\n",
              "      <td>2007-01-22</td>\n",
              "      <td>1</td>\n",
              "      <td>2007</td>\n",
              "      <td>4</td>\n",
              "      <td>2007-01-29</td>\n",
              "      <td>26.7250</td>\n",
              "      <td>23.0375</td>\n",
              "      <td>29.9500</td>\n",
              "      <td>26.1125</td>\n",
              "      <td>53.6</td>\n",
              "      <td>53.6</td>\n",
              "      <td>17.2000</td>\n",
              "      <td>42.5</td>\n",
              "      <td>61</td>\n",
              "      <td>11.783333</td>\n",
              "      <td>381</td>\n",
              "      <td>1088</td>\n",
              "    </tr>\n",
              "    <tr>\n",
              "      <th>4</th>\n",
              "      <td>Ampara</td>\n",
              "      <td>0</td>\n",
              "      <td>2007-01-29</td>\n",
              "      <td>1</td>\n",
              "      <td>2007</td>\n",
              "      <td>5</td>\n",
              "      <td>2007-02-05</td>\n",
              "      <td>27.3625</td>\n",
              "      <td>22.9625</td>\n",
              "      <td>30.7500</td>\n",
              "      <td>26.1250</td>\n",
              "      <td>8.2</td>\n",
              "      <td>8.2</td>\n",
              "      <td>17.2625</td>\n",
              "      <td>40.0</td>\n",
              "      <td>51</td>\n",
              "      <td>11.812500</td>\n",
              "      <td>382</td>\n",
              "      <td>1090</td>\n",
              "    </tr>\n",
              "  </tbody>\n",
              "</table>\n",
              "</div>"
            ],
            "text/plain": [
              "  District  Number_of_Cases Week_Start_Date  Month  Year  Week Week_End_Date  \\\n",
              "0   Ampara                0      2007-01-01      1  2007     1    2007-01-08   \n",
              "1   Ampara                0      2007-01-08      1  2007     2    2007-01-15   \n",
              "2   Ampara                0      2007-01-15      1  2007     3    2007-01-22   \n",
              "3   Ampara                0      2007-01-22      1  2007     4    2007-01-29   \n",
              "4   Ampara                0      2007-01-29      1  2007     5    2007-02-05   \n",
              "\n",
              "   Avg Max Temp (°C)  Avg Min Temp (°C)  Avg Apparent Max Temp (°C)  \\\n",
              "0            26.9375            21.8625                     28.8500   \n",
              "1            26.3500            23.3250                     30.2625   \n",
              "2            27.2125            23.1625                     29.5750   \n",
              "3            26.7250            23.0375                     29.9500   \n",
              "4            27.3625            22.9625                     30.7500   \n",
              "\n",
              "   Avg Apparent Min Temp (°C)  Total Precipitation (mm)  Total Rain (mm)  \\\n",
              "0                     24.1000                       8.0              8.0   \n",
              "1                     26.7000                      86.1             86.1   \n",
              "2                     25.9625                       3.1              3.1   \n",
              "3                     26.1125                      53.6             53.6   \n",
              "4                     26.1250                       8.2              8.2   \n",
              "\n",
              "   Avg Wind Speed (km/h)  Max Wind Gusts (km/h)  Weather Code  \\\n",
              "0                18.2000                   44.3             3   \n",
              "1                17.0250                   43.6            53   \n",
              "2                20.1875                   48.2            51   \n",
              "3                17.2000                   42.5            61   \n",
              "4                17.2625                   40.0            51   \n",
              "\n",
              "   Avg Daylight Duration (hours)  Avg Sunrise Time  Avg Sunset Time  \n",
              "0                      11.714583               376             1079  \n",
              "1                      11.733333               378             1082  \n",
              "2                      11.754167               380             1085  \n",
              "3                      11.783333               381             1088  \n",
              "4                      11.812500               382             1090  "
            ]
          },
          "execution_count": 10,
          "metadata": {},
          "output_type": "execute_result"
        }
      ],
      "source": [
        "df.head()"
      ]
    },
    {
      "cell_type": "markdown",
      "metadata": {
        "id": "RLWDzkaa-1jX"
      },
      "source": [
        "** The trend of cases of all 25 districts"
      ]
    },
    {
      "cell_type": "code",
      "execution_count": 11,
      "metadata": {
        "execution": {
          "iopub.execute_input": "2024-09-09T15:50:49.062985Z",
          "iopub.status.busy": "2024-09-09T15:50:49.062700Z",
          "iopub.status.idle": "2024-09-09T15:51:01.064818Z",
          "shell.execute_reply": "2024-09-09T15:51:01.063983Z",
          "shell.execute_reply.started": "2024-09-09T15:50:49.062953Z"
        },
        "id": "TTg9Y2PR8D3x",
        "trusted": true
      },
      "outputs": [
        {
          "name": "stderr",
          "output_type": "stream",
          "text": [
            "/home/surajkarki/Documents/My Workspace/Coding Works/omdena/.venv/lib/python3.11/site-packages/tqdm/auto.py:21: TqdmWarning: IProgress not found. Please update jupyter and ipywidgets. See https://ipywidgets.readthedocs.io/en/stable/user_install.html\n",
            "  from .autonotebook import tqdm as notebook_tqdm\n"
          ]
        }
      ],
      "source": [
        "from darts.models import NBEATSModel, TransformerModel, TFTModel, RandomForest, CatBoostModel, RegressionModel, LightGBMModel, ARIMA"
      ]
    },
    {
      "cell_type": "code",
      "execution_count": 12,
      "metadata": {
        "execution": {
          "iopub.execute_input": "2024-09-09T15:51:01.066678Z",
          "iopub.status.busy": "2024-09-09T15:51:01.066004Z",
          "iopub.status.idle": "2024-09-09T15:51:01.071096Z",
          "shell.execute_reply": "2024-09-09T15:51:01.070016Z",
          "shell.execute_reply.started": "2024-09-09T15:51:01.066643Z"
        },
        "id": "hbTP0et-0Mg8",
        "trusted": true
      },
      "outputs": [],
      "source": [
        "pl_trainer_kwargs={\"accelerator\": \"cpu\"}"
      ]
    },
    {
      "cell_type": "code",
      "execution_count": 215,
      "metadata": {
        "execution": {
          "iopub.execute_input": "2024-09-09T15:51:01.073269Z",
          "iopub.status.busy": "2024-09-09T15:51:01.072913Z",
          "iopub.status.idle": "2024-09-09T15:51:01.160818Z",
          "shell.execute_reply": "2024-09-09T15:51:01.160088Z",
          "shell.execute_reply.started": "2024-09-09T15:51:01.073231Z"
        },
        "id": "nWPFk15Z3rAc",
        "trusted": true
      },
      "outputs": [],
      "source": [
        "nbeats = NBEATSModel(                 # or 'GRU' or 'RNN'\n",
        "    input_chunk_length=52,           # length of input sequence\n",
        "    output_chunk_length=12,\n",
        "    dropout=0.4,                     # dropout to avoid overfitting\n",
        "    batch_size=32,                   # batch size during training\n",
        "    n_epochs=100,                    # number of epochs for training\n",
        "    activation='LeakyReLU',\n",
        "    random_state=42,\n",
        "    pl_trainer_kwargs=pl_trainer_kwargs,\n",
        "    save_checkpoints=True\n",
        ")\n",
        "\n",
        "transformer = TransformerModel(\n",
        "    input_chunk_length=52,           # length of input sequence\n",
        "    output_chunk_length=12,\n",
        "    norm_type=\"LayerNorm\",\n",
        "    dropout=0.4,                     # dropout to avoid overfitting\n",
        "    batch_size=32,                   # batch size during training\n",
        "    n_epochs=100,                    # number of epochs for training\n",
        "    random_state=42,\n",
        "    pl_trainer_kwargs=pl_trainer_kwargs,\n",
        "    save_checkpoints=True\n",
        ")\n",
        "tft = TFTModel(\n",
        "    input_chunk_length=52,           # length of input sequence\n",
        "    output_chunk_length=12,\n",
        "    dropout=0.4,                     # dropout to avoid overfitting\n",
        "    batch_size=32,                   # batch size during training\n",
        "    n_epochs=100,                    # number of epochs for training\n",
        "    random_state=42,\n",
        "    pl_trainer_kwargs=pl_trainer_kwargs,\n",
        "    add_relative_index=True,\n",
        "    save_checkpoints=True\n",
        ")\n",
        "rf = RandomForest(\n",
        "    lags = [-1, -2, -3, -4, -5],\n",
        "    lags_future_covariates=[0],\n",
        "    output_chunk_length=12, # Number of time steps predicted at once (per chunk) by the internal model.\n",
        "    random_state=42\n",
        ")\n",
        "cat = CatBoostModel(\n",
        "    lags = [-1, -2, -3, -52],\n",
        "    lags_future_covariates=[0],\n",
        "    output_chunk_length=12, # Number of time steps predicted at once (per chunk) by the internal model.\n",
        "    random_state=42\n",
        ")\n",
        "reg = RegressionModel(\n",
        "    lags = [-1, -2, -3, -52],\n",
        "    lags_future_covariates=[0],\n",
        "    model = Ridge(),\n",
        "    output_chunk_length=12,  # Number of time steps predicted at once (per chunk) by the internal model.\n",
        ")\n",
        "lgbm = LightGBMModel(\n",
        "    lags = [-1, -2, -3, -52],\n",
        "    output_chunk_length=12, # Number of time steps predicted at once (per chunk) by the internal model.\n",
        "    random_state=42\n",
        ")\n",
        "ar = ARIMA(p=5, d=1, q=1)\n",
        "reg = RegressionModel(\n",
        "    lags = [-10],\n",
        "    lags_future_covariates=[0],\n",
        "    model = Ridge(),\n",
        "    output_chunk_length=12,  # Number of time steps predicted at once (per chunk) by the internal model.\n",
        ")"
      ]
    },
    {
      "cell_type": "code",
      "execution_count": 216,
      "metadata": {
        "execution": {
          "iopub.execute_input": "2024-09-09T15:51:01.177512Z",
          "iopub.status.busy": "2024-09-09T15:51:01.177221Z",
          "iopub.status.idle": "2024-09-09T15:51:01.187010Z",
          "shell.execute_reply": "2024-09-09T15:51:01.186123Z",
          "shell.execute_reply.started": "2024-09-09T15:51:01.177482Z"
        },
        "id": "E3mqTndNikCB",
        "trusted": true
      },
      "outputs": [],
      "source": [
        "import pickle\n",
        "from darts.metrics import rmse\n",
        "def train(train_series, val_series, model, future_covariates):\n",
        "    #model.fit(train_series, future_covariates=future_covariates)\n",
        "    model.fit(train_series)\n",
        "    #Forecast for the next 12 weeks\n",
        "    #forecast = model.predict(n=len(val_series), future_covariates=future_covariates)\n",
        "    forecast = model.predict(n=len(val_series))\n",
        "    error_rmse = rmse(val_series, forecast)\n",
        "    print(error_rmse)\n",
        "    # Save the model using pickle\n",
        "    with open(\"Kalutara_ARIMA.pkl\", 'wb') as f:\n",
        "        pickle.dump(model, f)"
      ]
    },
    {
      "cell_type": "code",
      "execution_count": 217,
      "metadata": {
        "execution": {
          "iopub.execute_input": "2024-09-09T15:51:01.188339Z",
          "iopub.status.busy": "2024-09-09T15:51:01.188038Z",
          "iopub.status.idle": "2024-09-09T15:51:01.201191Z",
          "shell.execute_reply": "2024-09-09T15:51:01.200338Z",
          "shell.execute_reply.started": "2024-09-09T15:51:01.188308Z"
        },
        "id": "gZ-cEIi-med4",
        "trusted": true
      },
      "outputs": [],
      "source": [
        "def main(data):\n",
        "    # Filter data for the specified district\n",
        "    district_data = data[data['District'] == \"Kalutara\"]\n",
        "\n",
        "    # Ensure the 'Week_End_Date' column is in datetime format\n",
        "    district_data['Week_End_Date'] = pd.to_datetime(district_data['Week_End_Date'])\n",
        "\n",
        "    # Prepare the data for ARIMA\n",
        "    series = TimeSeries.from_dataframe(district_data, time_col='Week_End_Date', value_cols=['Number_of_Cases', 'Avg Max Temp (°C)', \"Avg Min Temp (°C)\", \"Avg Apparent Max Temp (°C)\", \"Avg Apparent Min Temp (°C)\", \"Total Precipitation (mm)\", \"Avg Daylight Duration (hours)\", \"Avg Sunrise Time\", \"Avg Sunset Time\", \"Avg Wind Speed (km/h)\"])\n",
        "\n",
        "    # Split series\n",
        "    # Set aside the last 12 weeks as a validation series\n",
        "    train_data, val_data = series[\"Number_of_Cases\"][:-12], series[\"Number_of_Cases\"][-12:]\n",
        "    future_covariates = series[[\"Avg Max Temp (°C)\", \"Avg Min Temp (°C)\", \"Avg Apparent Max Temp (°C)\", \"Avg Apparent Min Temp (°C)\", \"Total Precipitation (mm)\", \"Avg Daylight Duration (hours)\", \"Avg Sunrise Time\", \"Avg Sunset Time\", \"Avg Wind Speed (km/h)\"]]\n",
        "\n",
        "    print(f\"Training length: {len(train_data)}\")\n",
        "    print(f\"Validation length: {len(val_data)}\")\n",
        "\n",
        "    train(train_data, val_data, ar, future_covariates)"
      ]
    },
    {
      "cell_type": "code",
      "execution_count": 218,
      "metadata": {
        "colab": {
          "base_uri": "https://localhost:8080/",
          "height": 885,
          "referenced_widgets": [
            "319e2ae30d2e4c1987e6aa0f1ef1fe90",
            "0714225e22e64dd28d04eae2869d1b9d",
            "a3ecbeda279c4ae0aa3038f30a557cd8",
            "116e60c03478405bb815be5b1ad55b13",
            "5a3e44fcf18e4a4caa1d4f10de7b8d67",
            "4ed7dd5a162245bf9e103f3fba6c0281",
            "b61afbcca5714e12afbf4f3a61e4429c",
            "72b36a91b67f413e87943802896ce829",
            "2aa56b66561542f894c925f824930e66",
            "adfef373fe0e48c89e32d9c8f4c4b6e5",
            "f396df30714d46f6b78f13e6f1658af0"
          ]
        },
        "execution": {
          "iopub.execute_input": "2024-09-09T15:51:01.202879Z",
          "iopub.status.busy": "2024-09-09T15:51:01.202622Z",
          "iopub.status.idle": "2024-09-09T18:44:45.598645Z",
          "shell.execute_reply": "2024-09-09T18:44:45.597673Z",
          "shell.execute_reply.started": "2024-09-09T15:51:01.202850Z"
        },
        "id": "RrVdOL8qR0kB",
        "outputId": "9d077133-d307-4cc3-8b63-abf69cdb7135",
        "trusted": true
      },
      "outputs": [
        {
          "name": "stderr",
          "output_type": "stream",
          "text": [
            "/tmp/ipykernel_6478/2109517433.py:6: SettingWithCopyWarning: \n",
            "A value is trying to be set on a copy of a slice from a DataFrame.\n",
            "Try using .loc[row_indexer,col_indexer] = value instead\n",
            "\n",
            "See the caveats in the documentation: https://pandas.pydata.org/pandas-docs/stable/user_guide/indexing.html#returning-a-view-versus-a-copy\n",
            "  district_data['Week_End_Date'] = pd.to_datetime(district_data['Week_End_Date'])\n"
          ]
        },
        {
          "name": "stdout",
          "output_type": "stream",
          "text": [
            "Training length: 904\n",
            "Validation length: 12\n"
          ]
        },
        {
          "name": "stdout",
          "output_type": "stream",
          "text": [
            "13.296170945792037\n"
          ]
        }
      ],
      "source": [
        "results = main(df)"
      ]
    },
    {
      "cell_type": "code",
      "execution_count": null,
      "metadata": {},
      "outputs": [],
      "source": []
    },
    {
      "cell_type": "code",
      "execution_count": 219,
      "metadata": {},
      "outputs": [],
      "source": [
        "from typing import Tuple\n",
        "from darts.models import ARIMA\n",
        "from darts import TimeSeries\n",
        "from darts.metrics import rmse\n",
        "\n",
        "\n",
        "def train_arima(\n",
        "    train_series: TimeSeries,\n",
        "    val_series: TimeSeries,\n",
        "    p: int,\n",
        "    d: int,\n",
        "    q: int\n",
        ") -> Tuple[float, ARIMA]:\n",
        "    \"\"\"\n",
        "    Train an ARIMA model with specified p, d, q values and compute RMSE on validation data.\n",
        "\n",
        "    Args:\n",
        "        train_series (TimeSeries): Training data for the target variable.\n",
        "        val_series (TimeSeries): Validation data for the target variable.\n",
        "        p (int): Autoregressive part (number of lags).\n",
        "        d (int): Differencing part (number of differences needed for stationarity).\n",
        "        q (int): Moving average part (number of lagged forecast errors).\n",
        "\n",
        "    Returns:\n",
        "        Tuple[float, ARIMA]: The RMSE value and the trained ARIMA model instance.\n",
        "    \"\"\"\n",
        "    # Initialize the ARIMA model with specified p, d, q values\n",
        "    model = ARIMA(p=p, d=d, q=q)\n",
        "    \n",
        "    # Fit the model on the training data\n",
        "    model.fit(train_series)\n",
        "    \n",
        "    # Forecast the next n points, where n is the length of the validation set\n",
        "    forecast = model.predict(n=len(val_series))\n",
        "    \n",
        "    # Calculate RMSE between the validation data and the forecast\n",
        "    error_rmse = rmse(val_series, forecast)\n",
        "    print(f\"RMSE for ARIMA({p},{d},{q}): {error_rmse}\")\n",
        "    \n",
        "    return error_rmse, model"
      ]
    },
    {
      "cell_type": "code",
      "execution_count": 220,
      "metadata": {},
      "outputs": [
        {
          "name": "stderr",
          "output_type": "stream",
          "text": [
            "/tmp/ipykernel_6478/2802493776.py:13: SettingWithCopyWarning: \n",
            "A value is trying to be set on a copy of a slice from a DataFrame.\n",
            "Try using .loc[row_indexer,col_indexer] = value instead\n",
            "\n",
            "See the caveats in the documentation: https://pandas.pydata.org/pandas-docs/stable/user_guide/indexing.html#returning-a-view-versus-a-copy\n",
            "  district_data['Week_End_Date'] = pd.to_datetime(district_data['Week_End_Date'])\n"
          ]
        },
        {
          "name": "stdout",
          "output_type": "stream",
          "text": [
            "Training length: 904\n",
            "Validation length: 12\n",
            "RMSE for ARIMA(0,0,0): 53.43796807141182\n",
            "RMSE for ARIMA(0,0,1): 53.39612282345499\n",
            "RMSE for ARIMA(0,0,2): 53.41356216667263\n",
            "RMSE for ARIMA(0,0,3): 54.22150244063818\n",
            "RMSE for ARIMA(0,1,0): 48.69377099109632\n",
            "RMSE for ARIMA(0,1,1): 47.16952268495625\n",
            "RMSE for ARIMA(0,1,2): 48.55159519175431\n",
            "RMSE for ARIMA(0,1,3): 48.51634671438098\n",
            "RMSE for ARIMA(0,2,0): 93.52495210726745\n"
          ]
        },
        {
          "name": "stderr",
          "output_type": "stream",
          "text": [
            "/home/surajkarki/Documents/My Workspace/Coding Works/omdena/.venv/lib/python3.11/site-packages/statsmodels/tsa/statespace/sarimax.py:978: UserWarning: Non-invertible starting MA parameters found. Using zeros as starting parameters.\n",
            "  warn('Non-invertible starting MA parameters found.'\n"
          ]
        },
        {
          "name": "stdout",
          "output_type": "stream",
          "text": [
            "RMSE for ARIMA(0,2,1): 48.45848176703785\n",
            "RMSE for ARIMA(0,2,2): 46.91253732617551\n",
            "RMSE for ARIMA(0,2,3): 48.3420023014232\n",
            "RMSE for ARIMA(1,0,0): 51.682641864043376\n",
            "RMSE for ARIMA(1,0,1): 50.4108443465638\n",
            "RMSE for ARIMA(1,0,2): 52.104744169620055\n",
            "RMSE for ARIMA(1,0,3): 52.547755143928455\n",
            "RMSE for ARIMA(1,1,0): 47.41476637935178\n",
            "RMSE for ARIMA(1,1,1): 47.65553349138216\n",
            "RMSE for ARIMA(1,1,2): 48.535466989110525\n",
            "RMSE for ARIMA(1,1,3): 46.004531655271414\n",
            "RMSE for ARIMA(1,2,0): 93.52495210726724\n",
            "RMSE for ARIMA(1,2,1): 47.1651836509258\n",
            "RMSE for ARIMA(1,2,2): 47.407080756769346\n",
            "RMSE for ARIMA(1,2,3): 46.93129437826708\n",
            "RMSE for ARIMA(2,0,0): 50.36036750116219\n",
            "RMSE for ARIMA(2,0,1): 50.67421072713989\n",
            "RMSE for ARIMA(2,0,2): 52.44323480818255\n",
            "RMSE for ARIMA(2,0,3): 52.54969241707213\n",
            "RMSE for ARIMA(2,1,0): 47.85747430528071\n"
          ]
        },
        {
          "name": "stderr",
          "output_type": "stream",
          "text": [
            "/home/surajkarki/Documents/My Workspace/Coding Works/omdena/.venv/lib/python3.11/site-packages/statsmodels/tsa/statespace/sarimax.py:966: UserWarning: Non-stationary starting autoregressive parameters found. Using zeros as starting parameters.\n",
            "  warn('Non-stationary starting autoregressive parameters'\n"
          ]
        },
        {
          "name": "stdout",
          "output_type": "stream",
          "text": [
            "RMSE for ARIMA(2,1,1): 47.94335060680765\n",
            "RMSE for ARIMA(2,1,2): 49.482746126909355\n",
            "RMSE for ARIMA(2,1,3): 44.82000034035303\n",
            "RMSE for ARIMA(2,2,0): 68.20176514349014\n",
            "RMSE for ARIMA(2,2,1): 47.61934083691913\n",
            "RMSE for ARIMA(2,2,2): 47.266191647262396\n",
            "RMSE for ARIMA(2,2,3): 47.569799836961565\n",
            "RMSE for ARIMA(3,0,0): 51.319582673490515\n",
            "RMSE for ARIMA(3,0,1): 51.997375621749995\n",
            "RMSE for ARIMA(3,0,2): 52.482137746405854\n",
            "RMSE for ARIMA(3,0,3): 52.52693681513938\n",
            "RMSE for ARIMA(3,1,0): 48.10505622166946\n",
            "RMSE for ARIMA(3,1,1): 48.34209614930924\n",
            "RMSE for ARIMA(3,1,2): 49.55972305929352\n"
          ]
        },
        {
          "name": "stderr",
          "output_type": "stream",
          "text": [
            "/home/surajkarki/Documents/My Workspace/Coding Works/omdena/.venv/lib/python3.11/site-packages/statsmodels/base/model.py:607: ConvergenceWarning: Maximum Likelihood optimization failed to converge. Check mle_retvals\n",
            "  warnings.warn(\"Maximum Likelihood optimization failed to \"\n"
          ]
        },
        {
          "name": "stdout",
          "output_type": "stream",
          "text": [
            "RMSE for ARIMA(3,1,3): 45.25769222130332\n",
            "RMSE for ARIMA(3,2,0): 52.53246603869853\n",
            "RMSE for ARIMA(3,2,1): 47.899331929839924\n"
          ]
        },
        {
          "name": "stderr",
          "output_type": "stream",
          "text": [
            "/home/surajkarki/Documents/My Workspace/Coding Works/omdena/.venv/lib/python3.11/site-packages/statsmodels/base/model.py:607: ConvergenceWarning: Maximum Likelihood optimization failed to converge. Check mle_retvals\n",
            "  warnings.warn(\"Maximum Likelihood optimization failed to \"\n"
          ]
        },
        {
          "name": "stdout",
          "output_type": "stream",
          "text": [
            "RMSE for ARIMA(3,2,2): 48.20025038433937\n"
          ]
        },
        {
          "name": "stderr",
          "output_type": "stream",
          "text": [
            "/home/surajkarki/Documents/My Workspace/Coding Works/omdena/.venv/lib/python3.11/site-packages/statsmodels/base/model.py:607: ConvergenceWarning: Maximum Likelihood optimization failed to converge. Check mle_retvals\n",
            "  warnings.warn(\"Maximum Likelihood optimization failed to \"\n"
          ]
        },
        {
          "name": "stdout",
          "output_type": "stream",
          "text": [
            "RMSE for ARIMA(3,2,3): 47.965322734647614\n",
            "RMSE for ARIMA(4,0,0): 52.353601106848004\n",
            "RMSE for ARIMA(4,0,1): 52.33454402604402\n",
            "RMSE for ARIMA(4,0,2): 52.58223855546416\n",
            "RMSE for ARIMA(4,0,3): 52.52856577001411\n",
            "RMSE for ARIMA(4,1,0): 48.84418719266476\n",
            "RMSE for ARIMA(4,1,1): 44.63497529556731\n",
            "RMSE for ARIMA(4,1,2): 44.39086650992464\n"
          ]
        },
        {
          "name": "stderr",
          "output_type": "stream",
          "text": [
            "/home/surajkarki/Documents/My Workspace/Coding Works/omdena/.venv/lib/python3.11/site-packages/statsmodels/base/model.py:607: ConvergenceWarning: Maximum Likelihood optimization failed to converge. Check mle_retvals\n",
            "  warnings.warn(\"Maximum Likelihood optimization failed to \"\n"
          ]
        },
        {
          "name": "stdout",
          "output_type": "stream",
          "text": [
            "RMSE for ARIMA(4,1,3): 45.43610677137294\n",
            "RMSE for ARIMA(4,2,0): 45.81822061956495\n",
            "RMSE for ARIMA(4,2,1): 48.61982450245873\n"
          ]
        },
        {
          "name": "stderr",
          "output_type": "stream",
          "text": [
            "/home/surajkarki/Documents/My Workspace/Coding Works/omdena/.venv/lib/python3.11/site-packages/statsmodels/base/model.py:607: ConvergenceWarning: Maximum Likelihood optimization failed to converge. Check mle_retvals\n",
            "  warnings.warn(\"Maximum Likelihood optimization failed to \"\n"
          ]
        },
        {
          "name": "stdout",
          "output_type": "stream",
          "text": [
            "RMSE for ARIMA(4,2,2): 47.9838017950819\n"
          ]
        },
        {
          "name": "stderr",
          "output_type": "stream",
          "text": [
            "/home/surajkarki/Documents/My Workspace/Coding Works/omdena/.venv/lib/python3.11/site-packages/statsmodels/base/model.py:607: ConvergenceWarning: Maximum Likelihood optimization failed to converge. Check mle_retvals\n",
            "  warnings.warn(\"Maximum Likelihood optimization failed to \"\n"
          ]
        },
        {
          "name": "stdout",
          "output_type": "stream",
          "text": [
            "RMSE for ARIMA(4,2,3): 48.108157520208344\n",
            "RMSE for ARIMA(5,0,0): 52.331026798368924\n",
            "RMSE for ARIMA(5,0,1): 52.34293822112859\n",
            "RMSE for ARIMA(5,0,2): 52.38788053558018\n"
          ]
        },
        {
          "name": "stderr",
          "output_type": "stream",
          "text": [
            "/home/surajkarki/Documents/My Workspace/Coding Works/omdena/.venv/lib/python3.11/site-packages/statsmodels/base/model.py:607: ConvergenceWarning: Maximum Likelihood optimization failed to converge. Check mle_retvals\n",
            "  warnings.warn(\"Maximum Likelihood optimization failed to \"\n"
          ]
        },
        {
          "name": "stdout",
          "output_type": "stream",
          "text": [
            "RMSE for ARIMA(5,0,3): 52.296412986973664\n",
            "RMSE for ARIMA(5,1,0): 50.29395123454355\n",
            "RMSE for ARIMA(5,1,1): 44.338798708702925\n"
          ]
        },
        {
          "name": "stderr",
          "output_type": "stream",
          "text": [
            "/home/surajkarki/Documents/My Workspace/Coding Works/omdena/.venv/lib/python3.11/site-packages/statsmodels/base/model.py:607: ConvergenceWarning: Maximum Likelihood optimization failed to converge. Check mle_retvals\n",
            "  warnings.warn(\"Maximum Likelihood optimization failed to \"\n"
          ]
        },
        {
          "name": "stdout",
          "output_type": "stream",
          "text": [
            "RMSE for ARIMA(5,1,2): 44.728585182875136\n"
          ]
        },
        {
          "name": "stderr",
          "output_type": "stream",
          "text": [
            "/home/surajkarki/Documents/My Workspace/Coding Works/omdena/.venv/lib/python3.11/site-packages/statsmodels/base/model.py:607: ConvergenceWarning: Maximum Likelihood optimization failed to converge. Check mle_retvals\n",
            "  warnings.warn(\"Maximum Likelihood optimization failed to \"\n"
          ]
        },
        {
          "name": "stdout",
          "output_type": "stream",
          "text": [
            "RMSE for ARIMA(5,1,3): 44.271624566222336\n",
            "RMSE for ARIMA(5,2,0): 47.75421523099842\n",
            "RMSE for ARIMA(5,2,1): 50.04788126816717\n",
            "RMSE for ARIMA(5,2,2): 48.59854329683194\n",
            "RMSE for ARIMA(5,2,3): 48.64931439465691\n",
            "[{'pdq': '(0,0,0)', 'RMSE': 53.43796807141182}, {'pdq': '(0,0,1)', 'RMSE': 53.39612282345499}, {'pdq': '(0,0,2)', 'RMSE': 53.41356216667263}, {'pdq': '(0,0,3)', 'RMSE': 54.22150244063818}, {'pdq': '(0,1,0)', 'RMSE': 48.69377099109632}, {'pdq': '(0,1,1)', 'RMSE': 47.16952268495625}, {'pdq': '(0,1,2)', 'RMSE': 48.55159519175431}, {'pdq': '(0,1,3)', 'RMSE': 48.51634671438098}, {'pdq': '(0,2,0)', 'RMSE': 93.52495210726745}, {'pdq': '(0,2,1)', 'RMSE': 48.45848176703785}, {'pdq': '(0,2,2)', 'RMSE': 46.91253732617551}, {'pdq': '(0,2,3)', 'RMSE': 48.3420023014232}, {'pdq': '(1,0,0)', 'RMSE': 51.682641864043376}, {'pdq': '(1,0,1)', 'RMSE': 50.4108443465638}, {'pdq': '(1,0,2)', 'RMSE': 52.104744169620055}, {'pdq': '(1,0,3)', 'RMSE': 52.547755143928455}, {'pdq': '(1,1,0)', 'RMSE': 47.41476637935178}, {'pdq': '(1,1,1)', 'RMSE': 47.65553349138216}, {'pdq': '(1,1,2)', 'RMSE': 48.535466989110525}, {'pdq': '(1,1,3)', 'RMSE': 46.004531655271414}, {'pdq': '(1,2,0)', 'RMSE': 93.52495210726724}, {'pdq': '(1,2,1)', 'RMSE': 47.1651836509258}, {'pdq': '(1,2,2)', 'RMSE': 47.407080756769346}, {'pdq': '(1,2,3)', 'RMSE': 46.93129437826708}, {'pdq': '(2,0,0)', 'RMSE': 50.36036750116219}, {'pdq': '(2,0,1)', 'RMSE': 50.67421072713989}, {'pdq': '(2,0,2)', 'RMSE': 52.44323480818255}, {'pdq': '(2,0,3)', 'RMSE': 52.54969241707213}, {'pdq': '(2,1,0)', 'RMSE': 47.85747430528071}, {'pdq': '(2,1,1)', 'RMSE': 47.94335060680765}, {'pdq': '(2,1,2)', 'RMSE': 49.482746126909355}, {'pdq': '(2,1,3)', 'RMSE': 44.82000034035303}, {'pdq': '(2,2,0)', 'RMSE': 68.20176514349014}, {'pdq': '(2,2,1)', 'RMSE': 47.61934083691913}, {'pdq': '(2,2,2)', 'RMSE': 47.266191647262396}, {'pdq': '(2,2,3)', 'RMSE': 47.569799836961565}, {'pdq': '(3,0,0)', 'RMSE': 51.319582673490515}, {'pdq': '(3,0,1)', 'RMSE': 51.997375621749995}, {'pdq': '(3,0,2)', 'RMSE': 52.482137746405854}, {'pdq': '(3,0,3)', 'RMSE': 52.52693681513938}, {'pdq': '(3,1,0)', 'RMSE': 48.10505622166946}, {'pdq': '(3,1,1)', 'RMSE': 48.34209614930924}, {'pdq': '(3,1,2)', 'RMSE': 49.55972305929352}, {'pdq': '(3,1,3)', 'RMSE': 45.25769222130332}, {'pdq': '(3,2,0)', 'RMSE': 52.53246603869853}, {'pdq': '(3,2,1)', 'RMSE': 47.899331929839924}, {'pdq': '(3,2,2)', 'RMSE': 48.20025038433937}, {'pdq': '(3,2,3)', 'RMSE': 47.965322734647614}, {'pdq': '(4,0,0)', 'RMSE': 52.353601106848004}, {'pdq': '(4,0,1)', 'RMSE': 52.33454402604402}, {'pdq': '(4,0,2)', 'RMSE': 52.58223855546416}, {'pdq': '(4,0,3)', 'RMSE': 52.52856577001411}, {'pdq': '(4,1,0)', 'RMSE': 48.84418719266476}, {'pdq': '(4,1,1)', 'RMSE': 44.63497529556731}, {'pdq': '(4,1,2)', 'RMSE': 44.39086650992464}, {'pdq': '(4,1,3)', 'RMSE': 45.43610677137294}, {'pdq': '(4,2,0)', 'RMSE': 45.81822061956495}, {'pdq': '(4,2,1)', 'RMSE': 48.61982450245873}, {'pdq': '(4,2,2)', 'RMSE': 47.9838017950819}, {'pdq': '(4,2,3)', 'RMSE': 48.108157520208344}, {'pdq': '(5,0,0)', 'RMSE': 52.331026798368924}, {'pdq': '(5,0,1)', 'RMSE': 52.34293822112859}, {'pdq': '(5,0,2)', 'RMSE': 52.38788053558018}, {'pdq': '(5,0,3)', 'RMSE': 52.296412986973664}, {'pdq': '(5,1,0)', 'RMSE': 50.29395123454355}, {'pdq': '(5,1,1)', 'RMSE': 44.338798708702925}, {'pdq': '(5,1,2)', 'RMSE': 44.728585182875136}, {'pdq': '(5,1,3)', 'RMSE': 44.271624566222336}, {'pdq': '(5,2,0)', 'RMSE': 47.75421523099842}, {'pdq': '(5,2,1)', 'RMSE': 50.04788126816717}, {'pdq': '(5,2,2)', 'RMSE': 48.59854329683194}, {'pdq': '(5,2,3)', 'RMSE': 48.64931439465691}]\n",
            "\n",
            "All ARIMA Configurations and their RMSE:\n",
            "        pdq       RMSE\n",
            "0   (5,1,3)  44.271625\n",
            "1   (5,1,1)  44.338799\n",
            "2   (4,1,2)  44.390867\n",
            "3   (4,1,1)  44.634975\n",
            "4   (5,1,2)  44.728585\n",
            "..      ...        ...\n",
            "67  (0,0,0)  53.437968\n",
            "68  (0,0,3)  54.221502\n",
            "69  (2,2,0)  68.201765\n",
            "70  (1,2,0)  93.524952\n",
            "71  (0,2,0)  93.524952\n",
            "\n",
            "[72 rows x 2 columns]\n",
            "\n",
            "Best ARIMA Configuration:\n",
            "pdq: (5,1,3) with RMSE: 44.271624566222336\n"
          ]
        },
        {
          "name": "stderr",
          "output_type": "stream",
          "text": [
            "/home/surajkarki/Documents/My Workspace/Coding Works/omdena/.venv/lib/python3.11/site-packages/statsmodels/base/model.py:607: ConvergenceWarning: Maximum Likelihood optimization failed to converge. Check mle_retvals\n",
            "  warnings.warn(\"Maximum Likelihood optimization failed to \"\n"
          ]
        }
      ],
      "source": [
        "p_values = [0, 1, 2, 3, 4, 5]\n",
        "d_values = [0, 1, 2]\n",
        "q_values = [0, 1, 2, 3]\n",
        "\n",
        "arima_configurations = [(p, d, q) for p in p_values for d in d_values for q in q_values]\n",
        "\n",
        "\n",
        "results = []\n",
        "# Filter data for the specified district\n",
        "district_data = df[df['District'] == \"Ratnapura\"]\n",
        "\n",
        "# Ensure the 'Week_End_Date' column is in datetime format\n",
        "district_data['Week_End_Date'] = pd.to_datetime(district_data['Week_End_Date'])\n",
        "\n",
        "# Prepare the data for ARIMA\n",
        "series = TimeSeries.from_dataframe(district_data, time_col='Week_End_Date', value_cols=['Number_of_Cases', 'Avg Max Temp (°C)', \"Avg Min Temp (°C)\", \"Avg Apparent Max Temp (°C)\", \"Avg Apparent Min Temp (°C)\", \"Total Precipitation (mm)\", \"Avg Daylight Duration (hours)\", \"Avg Sunrise Time\", \"Avg Sunset Time\", \"Avg Wind Speed (km/h)\"])\n",
        "\n",
        "# Split series\n",
        "# Set aside the last 12 weeks as a validation series\n",
        "train_data, val_data = series[\"Number_of_Cases\"][:-12], series[\"Number_of_Cases\"][-12:]\n",
        "\n",
        "print(f\"Training length: {len(train_data)}\")\n",
        "print(f\"Validation length: {len(val_data)}\")\n",
        "# Iterate through each lags configuration\n",
        "for lags in arima_configurations:\n",
        "    # Train the model and compute RMSE\n",
        "    error_rmse, trained_model = train_arima(\n",
        "        train_data,\n",
        "        val_data,\n",
        "        lags[0],\n",
        "        lags[1],\n",
        "        lags[2]\n",
        "    )\n",
        "    # Store the results\n",
        "    results.append({\n",
        "        'pdq': f\"({lags[0]},{lags[1]},{lags[2]})\",\n",
        "        'RMSE': error_rmse\n",
        "    })\n",
        "    \n",
        "print(results)\n",
        "# Convert results to DataFrame for easier analysis\n",
        "results_df = pd.DataFrame(results)\n",
        "\n",
        "# Display all results sorted by RMSE\n",
        "print(\"\\nAll ARIMA Configurations and their RMSE:\")\n",
        "print(results_df.sort_values('RMSE').reset_index(drop=True))\n",
        "\n",
        "# Identify the configuration with the minimum RMSE\n",
        "if not results_df.empty:\n",
        "    best_config = results_df.loc[results_df['RMSE'].idxmin()]\n",
        "    print(\"\\nBest ARIMA Configuration:\")\n",
        "    print(f\"pdq: {best_config['pdq']} with RMSE: {best_config['RMSE']}\")\n",
        "else:\n",
        "    print(\"No successful ARIMA configurations were found.\")\n"
      ]
    },
    {
      "cell_type": "code",
      "execution_count": null,
      "metadata": {},
      "outputs": [],
      "source": [
        "import pandas as pd\n",
        "from sklearn.ensemble import GradientBoostingRegressor\n",
        "from sklearn.metrics import mean_squared_error\n",
        "import numpy as np\n",
        "import matplotlib.pyplot as plt\n",
        "import warnings\n",
        "warnings.filterwarnings('ignore')\n",
        "\n",
        "# Load the dataset\n",
        "data = pd.read_csv('data/Copy of Sri_lanka_dengue_cases_weather_weekly_2007_2024_.csv')\n",
        "\n",
        "# Ensure the date is in datetime format\n",
        "data['Week_End_Date'] = pd.to_datetime(data['Week_End_Date'])\n",
        "\n",
        "# Sort the data by date\n",
        "data = data.sort_values(by='Week_End_Date')\n",
        "\n",
        "# Select features and target\n",
        "features = ['Avg Max Temp (°C)', 'Total Precipitation (mm)']\n",
        "target = 'Number_of_Cases'"
      ]
    },
    {
      "cell_type": "code",
      "execution_count": null,
      "metadata": {},
      "outputs": [],
      "source": [
        "import pandas as pd\n",
        "from sklearn.ensemble import GradientBoostingRegressor\n",
        "from sklearn.metrics import mean_squared_error\n",
        "import numpy as np\n",
        "import matplotlib.pyplot as plt\n",
        "import warnings\n",
        "warnings.filterwarnings('ignore')\n",
        "\n",
        "\n",
        "# Initialize dictionary to store forecasts and RMSE\n",
        "forecast_results = {}\n",
        "rmse_comparison = []\n",
        "\n",
        "# Store future forecast values for averaging\n",
        "future_forecasts_all_districts = []\n",
        "\n",
        "# Iterate through districts\n",
        "for district in data['District'].unique():\n",
        "    # Filter data for the current district\n",
        "    district_data = data[data['District'] == district]\n",
        "\n",
        "    # Ensure there are enough data points\n",
        "    if len(district_data) < 532:\n",
        "        print(f\"Not enough data for {district}. Skipping.\")\n",
        "        continue\n",
        "\n",
        "    # Prepare features and target variables\n",
        "    district_data['lag_1'] = district_data[target].shift(1)\n",
        "    district_data['rolling_mean_3'] = district_data[target].rolling(window=3).mean()\n",
        "    district_data = district_data.dropna()\n",
        "\n",
        "    X = district_data[['lag_1', 'rolling_mean_3'] + features]\n",
        "    y = district_data[target]\n",
        "\n",
        "    # Split training data (2007 up to May 7, 2024) and testing data (May 7 to 12 weeks after)\n",
        "    train_data = district_data[district_data['Week_End_Date'] <= '2024-04-29']\n",
        "    test_data = district_data[district_data['Week_End_Date'] > '2024-04-29']\n",
        "\n",
        "\n",
        "    X_train = train_data[['lag_1', 'rolling_mean_3'] + features]\n",
        "    y_train = train_data[target]\n",
        "    X_test = test_data[['lag_1', 'rolling_mean_3'] + features]\n",
        "    y_test = test_data[target]\n",
        "\n",
        "    # Train and evaluate Gradient Boosting\n",
        "    model_gb = GradientBoostingRegressor(n_estimators=1000, learning_rate=0.01, max_depth=6)\n",
        "    model_gb.fit(X_train, y_train)\n",
        "\n",
        "    # Forecast for the test period (May 7 to 12 weeks)\n",
        "    y_pred_gb = model_gb.predict(X_test)\n",
        "    rmse_gb = np.sqrt(mean_squared_error(y_test, y_pred_gb))\n",
        "    rmse_comparison.append((district, rmse_gb))\n",
        "\n",
        "    # Keep actual data from May 7, 2024, to July 30, 2024\n",
        "    forecast_actual_data = pd.DataFrame({\n",
        "        'Week_End_Date': test_data['Week_End_Date'],\n",
        "        'Actual_Dengue_Cases': test_data[target].values,\n",
        "        'Predicted_Dengue_Cases': y_pred_gb\n",
        "    })\n",
        "\n",
        "    # Store forecast results\n",
        "    forecast_results[district] = forecast_actual_data\n",
        "\n",
        "    # Plot results for this district\n",
        "    plt.figure(figsize=(10, 6))\n",
        "    plt.plot(forecast_actual_data['Week_End_Date'], forecast_actual_data['Actual_Dengue_Cases'], label='Actual (Test)')\n",
        "    plt.plot(forecast_actual_data['Week_End_Date'], forecast_actual_data['Predicted_Dengue_Cases'],\n",
        "             label='Predicted (GB)', linestyle='--', marker='^')\n",
        "    plt.xlabel('Date')\n",
        "    plt.ylabel('Dengue Cases')\n",
        "    plt.title(f'Forecast for {district} (May 7, 2024 - July 30, 2024)')\n",
        "    plt.legend()\n",
        "    plt.show()\n",
        "\n",
        "# Calculate mean RMSE across all districts\n",
        "mean_rmse = np.mean([rmse for _, rmse in rmse_comparison])\n",
        "\n",
        "# Print RMSE results for each district\n",
        "print(\"\\nGradientBoosting RMSE per district:\")\n",
        "for district, rmse in rmse_comparison:\n",
        "    print(f\"{district}: {rmse}\")\n",
        "print(f\"\\nMean RMSE across all districts: {mean_rmse}\")"
      ]
    }
  ],
  "metadata": {
    "accelerator": "GPU",
    "colab": {
      "gpuType": "T4",
      "provenance": []
    },
    "kaggle": {
      "accelerator": "gpu",
      "dataSources": [
        {
          "datasetId": 5660913,
          "sourceId": 9340978,
          "sourceType": "datasetVersion"
        }
      ],
      "dockerImageVersionId": 30762,
      "isGpuEnabled": true,
      "isInternetEnabled": true,
      "language": "python",
      "sourceType": "notebook"
    },
    "kernelspec": {
      "display_name": "Python 3",
      "language": "python",
      "name": "python3"
    },
    "language_info": {
      "codemirror_mode": {
        "name": "ipython",
        "version": 3
      },
      "file_extension": ".py",
      "mimetype": "text/x-python",
      "name": "python",
      "nbconvert_exporter": "python",
      "pygments_lexer": "ipython3",
      "version": "3.11.2"
    },
    "widgets": {
      "application/vnd.jupyter.widget-state+json": {
        "0714225e22e64dd28d04eae2869d1b9d": {
          "model_module": "@jupyter-widgets/controls",
          "model_module_version": "1.5.0",
          "model_name": "HTMLModel",
          "state": {
            "_dom_classes": [],
            "_model_module": "@jupyter-widgets/controls",
            "_model_module_version": "1.5.0",
            "_model_name": "HTMLModel",
            "_view_count": null,
            "_view_module": "@jupyter-widgets/controls",
            "_view_module_version": "1.5.0",
            "_view_name": "HTMLView",
            "description": "",
            "description_tooltip": null,
            "layout": "IPY_MODEL_4ed7dd5a162245bf9e103f3fba6c0281",
            "placeholder": "​",
            "style": "IPY_MODEL_b61afbcca5714e12afbf4f3a61e4429c",
            "value": "Epoch 99: 100%"
          }
        },
        "116e60c03478405bb815be5b1ad55b13": {
          "model_module": "@jupyter-widgets/controls",
          "model_module_version": "1.5.0",
          "model_name": "HTMLModel",
          "state": {
            "_dom_classes": [],
            "_model_module": "@jupyter-widgets/controls",
            "_model_module_version": "1.5.0",
            "_model_name": "HTMLModel",
            "_view_count": null,
            "_view_module": "@jupyter-widgets/controls",
            "_view_module_version": "1.5.0",
            "_view_name": "HTMLView",
            "description": "",
            "description_tooltip": null,
            "layout": "IPY_MODEL_adfef373fe0e48c89e32d9c8f4c4b6e5",
            "placeholder": "​",
            "style": "IPY_MODEL_f396df30714d46f6b78f13e6f1658af0",
            "value": " 27/27 [00:01&lt;00:00, 15.93it/s, train_loss=36.50]"
          }
        },
        "180553809c694f89885aa1c25034efc6": {
          "model_module": "@jupyter-widgets/controls",
          "model_module_version": "1.5.0",
          "model_name": "HTMLModel",
          "state": {
            "_dom_classes": [],
            "_model_module": "@jupyter-widgets/controls",
            "_model_module_version": "1.5.0",
            "_model_name": "HTMLModel",
            "_view_count": null,
            "_view_module": "@jupyter-widgets/controls",
            "_view_module_version": "1.5.0",
            "_view_name": "HTMLView",
            "description": "",
            "description_tooltip": null,
            "layout": "IPY_MODEL_7144b4d3dfdb494ba3b3c84857680c9b",
            "placeholder": "​",
            "style": "IPY_MODEL_8383ad7b630241748b5487820dcc06ba",
            "value": "Predicting DataLoader 0: 100%"
          }
        },
        "2aa56b66561542f894c925f824930e66": {
          "model_module": "@jupyter-widgets/controls",
          "model_module_version": "1.5.0",
          "model_name": "ProgressStyleModel",
          "state": {
            "_model_module": "@jupyter-widgets/controls",
            "_model_module_version": "1.5.0",
            "_model_name": "ProgressStyleModel",
            "_view_count": null,
            "_view_module": "@jupyter-widgets/base",
            "_view_module_version": "1.2.0",
            "_view_name": "StyleView",
            "bar_color": null,
            "description_width": ""
          }
        },
        "319e2ae30d2e4c1987e6aa0f1ef1fe90": {
          "model_module": "@jupyter-widgets/controls",
          "model_module_version": "1.5.0",
          "model_name": "HBoxModel",
          "state": {
            "_dom_classes": [],
            "_model_module": "@jupyter-widgets/controls",
            "_model_module_version": "1.5.0",
            "_model_name": "HBoxModel",
            "_view_count": null,
            "_view_module": "@jupyter-widgets/controls",
            "_view_module_version": "1.5.0",
            "_view_name": "HBoxView",
            "box_style": "",
            "children": [
              "IPY_MODEL_0714225e22e64dd28d04eae2869d1b9d",
              "IPY_MODEL_a3ecbeda279c4ae0aa3038f30a557cd8",
              "IPY_MODEL_116e60c03478405bb815be5b1ad55b13"
            ],
            "layout": "IPY_MODEL_5a3e44fcf18e4a4caa1d4f10de7b8d67"
          }
        },
        "4ed7dd5a162245bf9e103f3fba6c0281": {
          "model_module": "@jupyter-widgets/base",
          "model_module_version": "1.2.0",
          "model_name": "LayoutModel",
          "state": {
            "_model_module": "@jupyter-widgets/base",
            "_model_module_version": "1.2.0",
            "_model_name": "LayoutModel",
            "_view_count": null,
            "_view_module": "@jupyter-widgets/base",
            "_view_module_version": "1.2.0",
            "_view_name": "LayoutView",
            "align_content": null,
            "align_items": null,
            "align_self": null,
            "border": null,
            "bottom": null,
            "display": null,
            "flex": null,
            "flex_flow": null,
            "grid_area": null,
            "grid_auto_columns": null,
            "grid_auto_flow": null,
            "grid_auto_rows": null,
            "grid_column": null,
            "grid_gap": null,
            "grid_row": null,
            "grid_template_areas": null,
            "grid_template_columns": null,
            "grid_template_rows": null,
            "height": null,
            "justify_content": null,
            "justify_items": null,
            "left": null,
            "margin": null,
            "max_height": null,
            "max_width": null,
            "min_height": null,
            "min_width": null,
            "object_fit": null,
            "object_position": null,
            "order": null,
            "overflow": null,
            "overflow_x": null,
            "overflow_y": null,
            "padding": null,
            "right": null,
            "top": null,
            "visibility": null,
            "width": null
          }
        },
        "504ec5fb6a4e4964b5a5c766cb5cbc32": {
          "model_module": "@jupyter-widgets/controls",
          "model_module_version": "1.5.0",
          "model_name": "FloatProgressModel",
          "state": {
            "_dom_classes": [],
            "_model_module": "@jupyter-widgets/controls",
            "_model_module_version": "1.5.0",
            "_model_name": "FloatProgressModel",
            "_view_count": null,
            "_view_module": "@jupyter-widgets/controls",
            "_view_module_version": "1.5.0",
            "_view_name": "ProgressView",
            "bar_style": "success",
            "description": "",
            "description_tooltip": null,
            "layout": "IPY_MODEL_689620922dd148b99c20a2fb788bcbf7",
            "max": 1,
            "min": 0,
            "orientation": "horizontal",
            "style": "IPY_MODEL_cb3e91b29d2346419b7f3797528b8802",
            "value": 1
          }
        },
        "5a3e44fcf18e4a4caa1d4f10de7b8d67": {
          "model_module": "@jupyter-widgets/base",
          "model_module_version": "1.2.0",
          "model_name": "LayoutModel",
          "state": {
            "_model_module": "@jupyter-widgets/base",
            "_model_module_version": "1.2.0",
            "_model_name": "LayoutModel",
            "_view_count": null,
            "_view_module": "@jupyter-widgets/base",
            "_view_module_version": "1.2.0",
            "_view_name": "LayoutView",
            "align_content": null,
            "align_items": null,
            "align_self": null,
            "border": null,
            "bottom": null,
            "display": "inline-flex",
            "flex": null,
            "flex_flow": "row wrap",
            "grid_area": null,
            "grid_auto_columns": null,
            "grid_auto_flow": null,
            "grid_auto_rows": null,
            "grid_column": null,
            "grid_gap": null,
            "grid_row": null,
            "grid_template_areas": null,
            "grid_template_columns": null,
            "grid_template_rows": null,
            "height": null,
            "justify_content": null,
            "justify_items": null,
            "left": null,
            "margin": null,
            "max_height": null,
            "max_width": null,
            "min_height": null,
            "min_width": null,
            "object_fit": null,
            "object_position": null,
            "order": null,
            "overflow": null,
            "overflow_x": null,
            "overflow_y": null,
            "padding": null,
            "right": null,
            "top": null,
            "visibility": null,
            "width": "100%"
          }
        },
        "689620922dd148b99c20a2fb788bcbf7": {
          "model_module": "@jupyter-widgets/base",
          "model_module_version": "1.2.0",
          "model_name": "LayoutModel",
          "state": {
            "_model_module": "@jupyter-widgets/base",
            "_model_module_version": "1.2.0",
            "_model_name": "LayoutModel",
            "_view_count": null,
            "_view_module": "@jupyter-widgets/base",
            "_view_module_version": "1.2.0",
            "_view_name": "LayoutView",
            "align_content": null,
            "align_items": null,
            "align_self": null,
            "border": null,
            "bottom": null,
            "display": null,
            "flex": "2",
            "flex_flow": null,
            "grid_area": null,
            "grid_auto_columns": null,
            "grid_auto_flow": null,
            "grid_auto_rows": null,
            "grid_column": null,
            "grid_gap": null,
            "grid_row": null,
            "grid_template_areas": null,
            "grid_template_columns": null,
            "grid_template_rows": null,
            "height": null,
            "justify_content": null,
            "justify_items": null,
            "left": null,
            "margin": null,
            "max_height": null,
            "max_width": null,
            "min_height": null,
            "min_width": null,
            "object_fit": null,
            "object_position": null,
            "order": null,
            "overflow": null,
            "overflow_x": null,
            "overflow_y": null,
            "padding": null,
            "right": null,
            "top": null,
            "visibility": null,
            "width": null
          }
        },
        "70fd09773dee4428b5feb6bb60baa84c": {
          "model_module": "@jupyter-widgets/base",
          "model_module_version": "1.2.0",
          "model_name": "LayoutModel",
          "state": {
            "_model_module": "@jupyter-widgets/base",
            "_model_module_version": "1.2.0",
            "_model_name": "LayoutModel",
            "_view_count": null,
            "_view_module": "@jupyter-widgets/base",
            "_view_module_version": "1.2.0",
            "_view_name": "LayoutView",
            "align_content": null,
            "align_items": null,
            "align_self": null,
            "border": null,
            "bottom": null,
            "display": "inline-flex",
            "flex": null,
            "flex_flow": "row wrap",
            "grid_area": null,
            "grid_auto_columns": null,
            "grid_auto_flow": null,
            "grid_auto_rows": null,
            "grid_column": null,
            "grid_gap": null,
            "grid_row": null,
            "grid_template_areas": null,
            "grid_template_columns": null,
            "grid_template_rows": null,
            "height": null,
            "justify_content": null,
            "justify_items": null,
            "left": null,
            "margin": null,
            "max_height": null,
            "max_width": null,
            "min_height": null,
            "min_width": null,
            "object_fit": null,
            "object_position": null,
            "order": null,
            "overflow": null,
            "overflow_x": null,
            "overflow_y": null,
            "padding": null,
            "right": null,
            "top": null,
            "visibility": null,
            "width": "100%"
          }
        },
        "7144b4d3dfdb494ba3b3c84857680c9b": {
          "model_module": "@jupyter-widgets/base",
          "model_module_version": "1.2.0",
          "model_name": "LayoutModel",
          "state": {
            "_model_module": "@jupyter-widgets/base",
            "_model_module_version": "1.2.0",
            "_model_name": "LayoutModel",
            "_view_count": null,
            "_view_module": "@jupyter-widgets/base",
            "_view_module_version": "1.2.0",
            "_view_name": "LayoutView",
            "align_content": null,
            "align_items": null,
            "align_self": null,
            "border": null,
            "bottom": null,
            "display": null,
            "flex": null,
            "flex_flow": null,
            "grid_area": null,
            "grid_auto_columns": null,
            "grid_auto_flow": null,
            "grid_auto_rows": null,
            "grid_column": null,
            "grid_gap": null,
            "grid_row": null,
            "grid_template_areas": null,
            "grid_template_columns": null,
            "grid_template_rows": null,
            "height": null,
            "justify_content": null,
            "justify_items": null,
            "left": null,
            "margin": null,
            "max_height": null,
            "max_width": null,
            "min_height": null,
            "min_width": null,
            "object_fit": null,
            "object_position": null,
            "order": null,
            "overflow": null,
            "overflow_x": null,
            "overflow_y": null,
            "padding": null,
            "right": null,
            "top": null,
            "visibility": null,
            "width": null
          }
        },
        "72b36a91b67f413e87943802896ce829": {
          "model_module": "@jupyter-widgets/base",
          "model_module_version": "1.2.0",
          "model_name": "LayoutModel",
          "state": {
            "_model_module": "@jupyter-widgets/base",
            "_model_module_version": "1.2.0",
            "_model_name": "LayoutModel",
            "_view_count": null,
            "_view_module": "@jupyter-widgets/base",
            "_view_module_version": "1.2.0",
            "_view_name": "LayoutView",
            "align_content": null,
            "align_items": null,
            "align_self": null,
            "border": null,
            "bottom": null,
            "display": null,
            "flex": "2",
            "flex_flow": null,
            "grid_area": null,
            "grid_auto_columns": null,
            "grid_auto_flow": null,
            "grid_auto_rows": null,
            "grid_column": null,
            "grid_gap": null,
            "grid_row": null,
            "grid_template_areas": null,
            "grid_template_columns": null,
            "grid_template_rows": null,
            "height": null,
            "justify_content": null,
            "justify_items": null,
            "left": null,
            "margin": null,
            "max_height": null,
            "max_width": null,
            "min_height": null,
            "min_width": null,
            "object_fit": null,
            "object_position": null,
            "order": null,
            "overflow": null,
            "overflow_x": null,
            "overflow_y": null,
            "padding": null,
            "right": null,
            "top": null,
            "visibility": null,
            "width": null
          }
        },
        "771a31bf8aae42d6994ac013fa8352b7": {
          "model_module": "@jupyter-widgets/controls",
          "model_module_version": "1.5.0",
          "model_name": "HTMLModel",
          "state": {
            "_dom_classes": [],
            "_model_module": "@jupyter-widgets/controls",
            "_model_module_version": "1.5.0",
            "_model_name": "HTMLModel",
            "_view_count": null,
            "_view_module": "@jupyter-widgets/controls",
            "_view_module_version": "1.5.0",
            "_view_name": "HTMLView",
            "description": "",
            "description_tooltip": null,
            "layout": "IPY_MODEL_9d42b7ac0c274b969db0a118c527804b",
            "placeholder": "​",
            "style": "IPY_MODEL_7b9577b9ebe34a0bac24625bf13efabf",
            "value": " 1/1 [00:00&lt;00:00, 40.43it/s]"
          }
        },
        "7b9577b9ebe34a0bac24625bf13efabf": {
          "model_module": "@jupyter-widgets/controls",
          "model_module_version": "1.5.0",
          "model_name": "DescriptionStyleModel",
          "state": {
            "_model_module": "@jupyter-widgets/controls",
            "_model_module_version": "1.5.0",
            "_model_name": "DescriptionStyleModel",
            "_view_count": null,
            "_view_module": "@jupyter-widgets/base",
            "_view_module_version": "1.2.0",
            "_view_name": "StyleView",
            "description_width": ""
          }
        },
        "7c605ec9b6ad4314bf5ebc93e37a4dd7": {
          "model_module": "@jupyter-widgets/controls",
          "model_module_version": "1.5.0",
          "model_name": "HBoxModel",
          "state": {
            "_dom_classes": [],
            "_model_module": "@jupyter-widgets/controls",
            "_model_module_version": "1.5.0",
            "_model_name": "HBoxModel",
            "_view_count": null,
            "_view_module": "@jupyter-widgets/controls",
            "_view_module_version": "1.5.0",
            "_view_name": "HBoxView",
            "box_style": "",
            "children": [
              "IPY_MODEL_180553809c694f89885aa1c25034efc6",
              "IPY_MODEL_504ec5fb6a4e4964b5a5c766cb5cbc32",
              "IPY_MODEL_771a31bf8aae42d6994ac013fa8352b7"
            ],
            "layout": "IPY_MODEL_70fd09773dee4428b5feb6bb60baa84c"
          }
        },
        "8383ad7b630241748b5487820dcc06ba": {
          "model_module": "@jupyter-widgets/controls",
          "model_module_version": "1.5.0",
          "model_name": "DescriptionStyleModel",
          "state": {
            "_model_module": "@jupyter-widgets/controls",
            "_model_module_version": "1.5.0",
            "_model_name": "DescriptionStyleModel",
            "_view_count": null,
            "_view_module": "@jupyter-widgets/base",
            "_view_module_version": "1.2.0",
            "_view_name": "StyleView",
            "description_width": ""
          }
        },
        "9d42b7ac0c274b969db0a118c527804b": {
          "model_module": "@jupyter-widgets/base",
          "model_module_version": "1.2.0",
          "model_name": "LayoutModel",
          "state": {
            "_model_module": "@jupyter-widgets/base",
            "_model_module_version": "1.2.0",
            "_model_name": "LayoutModel",
            "_view_count": null,
            "_view_module": "@jupyter-widgets/base",
            "_view_module_version": "1.2.0",
            "_view_name": "LayoutView",
            "align_content": null,
            "align_items": null,
            "align_self": null,
            "border": null,
            "bottom": null,
            "display": null,
            "flex": null,
            "flex_flow": null,
            "grid_area": null,
            "grid_auto_columns": null,
            "grid_auto_flow": null,
            "grid_auto_rows": null,
            "grid_column": null,
            "grid_gap": null,
            "grid_row": null,
            "grid_template_areas": null,
            "grid_template_columns": null,
            "grid_template_rows": null,
            "height": null,
            "justify_content": null,
            "justify_items": null,
            "left": null,
            "margin": null,
            "max_height": null,
            "max_width": null,
            "min_height": null,
            "min_width": null,
            "object_fit": null,
            "object_position": null,
            "order": null,
            "overflow": null,
            "overflow_x": null,
            "overflow_y": null,
            "padding": null,
            "right": null,
            "top": null,
            "visibility": null,
            "width": null
          }
        },
        "a3ecbeda279c4ae0aa3038f30a557cd8": {
          "model_module": "@jupyter-widgets/controls",
          "model_module_version": "1.5.0",
          "model_name": "FloatProgressModel",
          "state": {
            "_dom_classes": [],
            "_model_module": "@jupyter-widgets/controls",
            "_model_module_version": "1.5.0",
            "_model_name": "FloatProgressModel",
            "_view_count": null,
            "_view_module": "@jupyter-widgets/controls",
            "_view_module_version": "1.5.0",
            "_view_name": "ProgressView",
            "bar_style": "success",
            "description": "",
            "description_tooltip": null,
            "layout": "IPY_MODEL_72b36a91b67f413e87943802896ce829",
            "max": 27,
            "min": 0,
            "orientation": "horizontal",
            "style": "IPY_MODEL_2aa56b66561542f894c925f824930e66",
            "value": 27
          }
        },
        "adfef373fe0e48c89e32d9c8f4c4b6e5": {
          "model_module": "@jupyter-widgets/base",
          "model_module_version": "1.2.0",
          "model_name": "LayoutModel",
          "state": {
            "_model_module": "@jupyter-widgets/base",
            "_model_module_version": "1.2.0",
            "_model_name": "LayoutModel",
            "_view_count": null,
            "_view_module": "@jupyter-widgets/base",
            "_view_module_version": "1.2.0",
            "_view_name": "LayoutView",
            "align_content": null,
            "align_items": null,
            "align_self": null,
            "border": null,
            "bottom": null,
            "display": null,
            "flex": null,
            "flex_flow": null,
            "grid_area": null,
            "grid_auto_columns": null,
            "grid_auto_flow": null,
            "grid_auto_rows": null,
            "grid_column": null,
            "grid_gap": null,
            "grid_row": null,
            "grid_template_areas": null,
            "grid_template_columns": null,
            "grid_template_rows": null,
            "height": null,
            "justify_content": null,
            "justify_items": null,
            "left": null,
            "margin": null,
            "max_height": null,
            "max_width": null,
            "min_height": null,
            "min_width": null,
            "object_fit": null,
            "object_position": null,
            "order": null,
            "overflow": null,
            "overflow_x": null,
            "overflow_y": null,
            "padding": null,
            "right": null,
            "top": null,
            "visibility": null,
            "width": null
          }
        },
        "b61afbcca5714e12afbf4f3a61e4429c": {
          "model_module": "@jupyter-widgets/controls",
          "model_module_version": "1.5.0",
          "model_name": "DescriptionStyleModel",
          "state": {
            "_model_module": "@jupyter-widgets/controls",
            "_model_module_version": "1.5.0",
            "_model_name": "DescriptionStyleModel",
            "_view_count": null,
            "_view_module": "@jupyter-widgets/base",
            "_view_module_version": "1.2.0",
            "_view_name": "StyleView",
            "description_width": ""
          }
        },
        "cb3e91b29d2346419b7f3797528b8802": {
          "model_module": "@jupyter-widgets/controls",
          "model_module_version": "1.5.0",
          "model_name": "ProgressStyleModel",
          "state": {
            "_model_module": "@jupyter-widgets/controls",
            "_model_module_version": "1.5.0",
            "_model_name": "ProgressStyleModel",
            "_view_count": null,
            "_view_module": "@jupyter-widgets/base",
            "_view_module_version": "1.2.0",
            "_view_name": "StyleView",
            "bar_color": null,
            "description_width": ""
          }
        },
        "f396df30714d46f6b78f13e6f1658af0": {
          "model_module": "@jupyter-widgets/controls",
          "model_module_version": "1.5.0",
          "model_name": "DescriptionStyleModel",
          "state": {
            "_model_module": "@jupyter-widgets/controls",
            "_model_module_version": "1.5.0",
            "_model_name": "DescriptionStyleModel",
            "_view_count": null,
            "_view_module": "@jupyter-widgets/base",
            "_view_module_version": "1.2.0",
            "_view_name": "StyleView",
            "description_width": ""
          }
        }
      }
    }
  },
  "nbformat": 4,
  "nbformat_minor": 0
}
